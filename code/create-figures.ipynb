{
 "cells": [
  {
   "cell_type": "code",
   "execution_count": null,
   "id": "fa8d3da3-770f-4b03-8728-94fd463d525c",
   "metadata": {},
   "outputs": [],
   "source": [
    "import os\n",
    "import numpy as np\n",
    "\n",
    "import matplotlib\n",
    "font = {'weight' : 'bold',\n",
    "        'size'   : 9}\n",
    "\n",
    "matplotlib.rc('font', **font)\n",
    "\n",
    "import matplotlib.pyplot as plt # Plotting\n",
    "\n",
    "from tifffile import imread"
   ]
  },
  {
   "cell_type": "code",
   "execution_count": null,
   "id": "dce1dfda-d68e-4734-9fbb-b3cb22437fdd",
   "metadata": {},
   "outputs": [],
   "source": [
    "if not os.path.exists(\"../results\"):\n",
    "    os.mkdir(\"../results\")\n",
    "\n",
    "if not os.path.exists(\"../results/digital-twin\"):\n",
    "    os.mkdir(\"../results/digital-twin\")"
   ]
  },
  {
   "cell_type": "code",
   "execution_count": null,
   "id": "a3c4b53a-180e-41e7-aea8-d62e5a959e29",
   "metadata": {},
   "outputs": [],
   "source": [
    "ref = imread(\"../data/Optimised-LSF-ref.tiff\");\n",
    "sim_no_noise = imread(\"../data/Optimised-LSF-sim-no-noise.tiff\");\n",
    "sim_noise = imread(\"../data/Optimised-LSF-sim-noise.tiff\");"
   ]
  },
  {
   "cell_type": "code",
   "execution_count": null,
   "id": "b70a2a5b-9c61-4cf2-8adf-89a9b3eb4210",
   "metadata": {},
   "outputs": [],
   "source": [
    "def plotInline(ref, sim, line_id, ylim, show_legend, fname, figsize=(9, 3), spacing=None, spacing_unit=None):\n",
    "    \n",
    "    fig , (ax1, ax2, ax3) = plt.subplots(1, 3, figsize=figsize)\n",
    "    \n",
    "    ax3.set_ylim(ylim)\n",
    "    \n",
    "    if spacing:\n",
    "        ax1.imshow(ref, cmap=\"gray\", vmin=ylim[0], vmax=ylim[1],\n",
    "                   extent=[0,(ref.shape[1]-1)*spacing,0,(ref.shape[0]-1)*spacing])\n",
    "        ax2.imshow(sim, cmap=\"gray\", vmin=ylim[0], vmax=ylim[1],\n",
    "                   extent=[0,(sim.shape[1]-1)*spacing,0,(sim.shape[0]-1)*spacing])\n",
    "        \n",
    "        ax1.plot([0, (ref.shape[1] - 1)*spacing], [(ref.shape[0]-line_id)*spacing, (ref.shape[0]-line_id)*spacing], color=\"blue\")\n",
    "        ax2.plot([0, (ref.shape[1] - 1)*spacing], [(ref.shape[0]-line_id)*spacing, (ref.shape[0]-line_id)*spacing], color=\"orange\")\n",
    "\n",
    "        x = np.linspace(0, ref.shape[1], ref.shape[1]) * spacing\n",
    "        ax3.plot(x, ref[line_id], label=\"Experimental\")\n",
    "        ax3.plot(x, sim[line_id], label=\"Simulated\")\n",
    "\n",
    "    else:\n",
    "        ax1.imshow(ref, cmap=\"gray\", vmin=ylim[0], vmax=ylim[1])\n",
    "        ax2.imshow(sim, cmap=\"gray\", vmin=ylim[0], vmax=ylim[1])\n",
    "\n",
    "        ax1.plot([0, ref.shape[1] - 1], [line_id, line_id], color=\"blue\")\n",
    "        ax2.plot([0, ref.shape[1] - 1], [line_id, line_id], color=\"orange\")\n",
    "        \n",
    "        ax3.plot(ref[line_id], label=\"Experimental\")\n",
    "        ax3.plot(sim[line_id], label=\"Simulated\")\n",
    "\n",
    "\n",
    "\n",
    "    \n",
    "    if show_legend:\n",
    "        ax3.legend(prop={'size': 10})\n",
    "\n",
    "    ax1.set_title(\"Experimental\")\n",
    "    ax2.set_title(\"Simulated\")\n",
    "    ax3.set_title(\"Intensity profiles\")\n",
    "\n",
    "    if spacing is None:\n",
    "        ax1.axis(\"off\")\n",
    "        ax2.axis(\"off\")\n",
    "    elif spacing_unit is not None:\n",
    "        ax1.set_xlabel(\"Pixel position (in \" + spacing_unit + \")\")\n",
    "        ax1.set_ylabel(\"Pixel position (in \" + spacing_unit + \")\")\n",
    "        ax2.set_xlabel(\"Pixel position (in \" + spacing_unit + \")\")\n",
    "        ax2.set_ylabel(\"Pixel position (in \" + spacing_unit + \")\")\n",
    "        ax3.set_xlabel(\"Pixel position (in \" + spacing_unit + \")\")\n",
    "        ax3.set_ylabel(\"Pixel intensity\")\n",
    "           \n",
    "    plt.tight_layout()\n",
    "\n",
    "    plt.savefig(fname)\n",
    "    plt.show()"
   ]
  },
  {
   "cell_type": "code",
   "execution_count": null,
   "id": "af22c9ed-547e-445c-b8aa-a8c4e40ad2ca",
   "metadata": {},
   "outputs": [],
   "source": [
    "plotInline(imread(\"../data/Optimised-LSF-ref.tiff\"),\n",
    "           imread(\"../data/Optimised-LSF-sim-noise.tiff\"),\n",
    "           1744,\n",
    "           (0,1.1),\n",
    "           True,\n",
    "           \"../results/digital-twin/digital-twin-projections.pdf\", \n",
    "           figsize=(9, 3),\n",
    "           spacing=0.5, spacing_unit=\"mm\")"
   ]
  },
  {
   "cell_type": "code",
   "execution_count": null,
   "id": "b3349f65-d78d-484b-99f4-77851d6ca8e1",
   "metadata": {},
   "outputs": [],
   "source": [
    "plotInline(imread(\"../data/experimental_idx_1490.tiff\"),\n",
    "           imread(\"../data/simulated_idx_1490.tiff\"),\n",
    "           390,\n",
    "           (-0.02, 0.1),\n",
    "           False,\n",
    "           \"../results/digital-twin/digital-twin-slices.pdf\", \n",
    "           figsize=(9, 3.5),\n",
    "           spacing=0.5, spacing_unit=\"mm\")"
   ]
  },
  {
   "cell_type": "code",
   "execution_count": null,
   "id": "3d3ae9b8-0fbf-4b2d-9ca7-82a17299fcc7",
   "metadata": {},
   "outputs": [],
   "source": []
  }
 ],
 "metadata": {
  "kernelspec": {
   "display_name": "Python 3 (ipykernel)",
   "language": "python",
   "name": "python3"
  },
  "language_info": {
   "codemirror_mode": {
    "name": "ipython",
    "version": 3
   },
   "file_extension": ".py",
   "mimetype": "text/x-python",
   "name": "python",
   "nbconvert_exporter": "python",
   "pygments_lexer": "ipython3",
   "version": "3.10.14"
  }
 },
 "nbformat": 4,
 "nbformat_minor": 5
}
