{
 "cells": [
  {
   "cell_type": "code",
   "execution_count": null,
   "id": "c8763149-102f-4422-817c-f0082b8d8011",
   "metadata": {},
   "outputs": [],
   "source": [
    "#!/usr/bin/env python3\n",
    "# -*- coding: utf-8 -*-\n",
    "#  Copyright 2024 United Kingdom Research and Innovation\n",
    "#\n",
    "#  Licensed under the Apache License, Version 2.0 (the \"License\");\n",
    "#  you may not use this file except in compliance with the License.\n",
    "#  You may obtain a copy of the License at\n",
    "#\n",
    "#      http://www.apache.org/licenses/LICENSE-2.0\n",
    "#\n",
    "#  Unless required by applicable law or agreed to in writing, software\n",
    "#  distributed under the License is distributed on an \"AS IS\" BASIS,\n",
    "#  WITHOUT WARRANTIES OR CONDITIONS OF ANY KIND, either express or implied.\n",
    "#  See the License for the specific language governing permissions and\n",
    "#  limitations under the License.\n",
    "#\n",
    "#   Authored by:    Franck Vidal (UKRI-STFC)"
   ]
  },
  {
   "cell_type": "markdown",
   "id": "f1428eec-d44f-4de4-b2ba-9328558fd9bf",
   "metadata": {},
   "source": [
    "# CT scan acquisition simulation using [gVXR](https://gvirtualxray.sourceforge.io/) and CT reconstruction with [CIL](https://ccpi.ac.uk/cil/)\n",
    "\n",
    "This example makes use of two open source libraries fro X-ray imaging. The first one is [gVXR](https://gvirtualxray.sourceforge.io/). It is used to simulate realistic radiographic images from a CAD model. The second one is [CIL](https://ccpi.ac.uk/cil/). It implements many CT reconstruction algorithms, including the well-known FDK. The details of the CT scan acquisition are given in the table below. Both FDK and SIRT (iterative method) reconstructions were performed. \n",
    "\n",
    "![Image comparison of the FDK and SIRT reconstructions](../results/dragon-comparison.png)\n",
    "\n",
    "| Parameter | Value |\n",
    "|-----------|-------|\n",
    "| source-to-object distance (SOD) | 150 cm |\n",
    "| object-to-detector distance (ODD) | 40 cm |\n",
    "| source-to-detector distance (SDD) | 190 cm |\n",
    "| detector resolution | 512 &times; 512 pixels |\n",
    "| pixel pitch | 500 &times; 500 &mu;m |\n",
    "| scintillator | 500 &mu;m of CsI|\n",
    "| energy response of the detector | ![Plot of the energy response of the detector](../results/dragon-detector-energy_response.png) |\n",
    "| detector impulse response | ![Plot of the detector impulse response](../results/dragon-detector-LSF.png) |\n",
    "| tube anode material | tungsten |\n",
    "| tube anode angle | 10&deg; |\n",
    "| tube voltage | 160 kV |\n",
    "| beam filtration | 1mm of Sn |\n",
    "| tube exposure | 0.5 mAs |\n",
    "| beam spectrum | ![Plot of the beam spectrum](../results/dragon-beam-spectrum.png) |\n",
    "| sample geometry | ![](../results/dragon-wireframe.png) |\n",
    "| sample material composition | Ti90Al6V4 |\n",
    "| sample material density | 4.43 g/cm<sup>3</sup>|\n",
    "| number of projection | 200 |\n",
    "| first angle | 0&deg; |\n",
    "| last angle | 360&deg; |\n",
    "| number of flat images | 60 |"
   ]
  },
  {
   "cell_type": "code",
   "execution_count": null,
   "id": "fbd8a4ff-e967-42b3-afef-efae1e9e9519",
   "metadata": {},
   "outputs": [],
   "source": [
    "# Import packages\n",
    "import os\n",
    "import numpy as np\n",
    "\n",
    "# Increase the font size in plots\n",
    "import matplotlib\n",
    "font = {'weight' : 'bold',\n",
    "        'size'   : 25}\n",
    "\n",
    "matplotlib.rc('font', **font)\n",
    "\n",
    "import matplotlib.pyplot as plt # Plotting\n",
    "\n",
    "from gvxrPython3 import gvxr # Simulate X-ray images\n",
    "from gvxrPython3.utils import loadSpectrumSpekpy\n",
    "from gvxrPython3 import gvxr2json # Simulate X-ray images\n",
    "\n",
    "# CT reconstruction using CIL\n",
    "from cil.io import TIFFStackReader, TIFFWriter\n",
    "from cil.utilities.display import show2D, show_geometry\n",
    "from cil.processors import TransmissionAbsorptionConverter\n",
    "from cil.framework import AcquisitionGeometry, AcquisitionData\n",
    "from cil.recon import FDK\n",
    "from cil.optimisation.algorithms import SIRT\n",
    "from cil.optimisation.functions import IndicatorBox\n",
    "from cil.plugins.astra.operators import ProjectionOperator\n",
    "from cil.utilities.jupyter import islicer"
   ]
  },
  {
   "cell_type": "markdown",
   "id": "de34c2d8-8667-4287-ba12-48684deea23f",
   "metadata": {},
   "source": [
    "## Set the simulation parameters"
   ]
  },
  {
   "cell_type": "code",
   "execution_count": null,
   "id": "5f047ab6-6369-4a3b-b216-fc948694b244",
   "metadata": {},
   "outputs": [],
   "source": [
    "# Create an OpenGL context\n",
    "print(\"Create an OpenGL context\")\n",
    "gvxr.createOpenGLContext();"
   ]
  },
  {
   "cell_type": "code",
   "execution_count": null,
   "id": "11912f07-b9be-4524-98c6-9b00139e4878",
   "metadata": {},
   "outputs": [],
   "source": [
    "# Set up the detector\n",
    "print(\"Set up the detector\");\n",
    "gvxr.setDetectorPosition(0.0, 40.0, 0.0, \"cm\");\n",
    "gvxr.setDetectorUpVector(0, 0, -1);\n",
    "gvxr.setDetectorNumberOfPixels(512, 512);\n",
    "gvxr.setDetectorPixelSize(500, 500, \"um\");\n",
    "\n",
    "# Set the impulse response of the detector, a convolution kernel\n",
    "gvxr.setLSF([0.00110698, 0.00122599, 0.00136522, 0.00152954, 0.00172533, 0.00196116, 0.0022487, 0.00260419, 0.00305074, 0.00362216, 0.00436939, 0.00537209, 0.00676012, 0.0087564, 0.01176824, 0.01659933, 0.02499446, 0.04120158, 0.0767488, 0.15911699, 0.24774516, 0.15911699, 0.0767488, 0.04120158, 0.02499446, 0.01659933, 0.01176824, 0.0087564, 0.00676012, 0.00537209, 0.00436939, 0.00362216, 0.00305074, 0.00260419, 0.0022487, 0.00196116, 0.00172533, 0.00152954, 0.00136522, 0.00122599, 0.00110698])\n",
    "\n",
    "# Set the scintillator\n",
    "gvxr.setScintillator(\"CsI\", 500, \"um\");"
   ]
  },
  {
   "cell_type": "code",
   "execution_count": null,
   "id": "4f63b563-83d4-4937-8059-74e4fb84cdb2",
   "metadata": {},
   "outputs": [],
   "source": [
    "# Plot the energy response of the detector\n",
    "detector_response = np.array(gvxr.getEnergyResponse(\"keV\"))\n",
    "plt.figure(figsize= (20,10))\n",
    "plt.title(\"Energy response of the detector\")\n",
    "plt.plot(detector_response[:,0], detector_response[:,1])\n",
    "plt.xlabel('Incident energy: E (in keV)')\n",
    "plt.ylabel('Detector energy response: $\\\\delta$(E) (in keV)')\n",
    "plt.tight_layout()\n",
    "plt.savefig(\"../results/dragon-detector-energy_response.png\", dpi=20)\n",
    "plt.savefig(\"../results/dragon-detector-energy_response.pdf\", dpi=600)"
   ]
  },
  {
   "cell_type": "code",
   "execution_count": null,
   "id": "735ba642-364f-438a-8878-61e8b0686f00",
   "metadata": {},
   "outputs": [],
   "source": [
    "# Plot the energy response of the detector\n",
    "lsf = np.array(gvxr.getLSF())\n",
    "half_size = len(lsf) // 2\n",
    "x = np.arange(-half_size, half_size + 1)\n",
    "\n",
    "plt.figure(figsize= (20,10))\n",
    "plt.title(\"One dimensional line spread function (LSF)\")\n",
    "plt.plot(x, lsf)\n",
    "plt.xlabel('Pixels')\n",
    "plt.ylabel('Intensity')\n",
    "plt.tight_layout()\n",
    "plt.savefig(\"../results/dragon-detector-LSF.png\", dpi=20)\n",
    "plt.savefig(\"../results/dragon-detector-LSF.pdf\", dpi=600)"
   ]
  },
  {
   "cell_type": "code",
   "execution_count": null,
   "id": "e38f3f01-b4f9-4aef-961b-740cfd718bab",
   "metadata": {},
   "outputs": [],
   "source": [
    "# Create a source\n",
    "print(\"Set up the beam\")\n",
    "gvxr.setSourcePosition(0.0,  -150.0, 0.0, \"cm\");\n",
    "gvxr.usePointSource();\n",
    "#  For a parallel source, use gvxr.useParallelBeam();\n",
    "\n",
    "# Set its spectrum, here a monochromatic beam\n",
    "# 1000 photons of 80 keV (i.e. 0.08 MeV) per ray\n",
    "# gvxr.setMonoChromatic(0.08, \"MeV\", 1000);\n",
    "# The following is equivalent: gvxr.setMonoChromatic(80, \"keV\", 1000);\n",
    "\n",
    "# Or use a polychromatic beam\n",
    "# The tube voltage is 160 keV\n",
    "# The filtration is 1mm of tin (Sn)\n",
    "# The anode angle is 12 degrees\n",
    "# mAs is 0,5\n",
    "# The source to detector distance in 50 cm\n",
    "loadSpectrumSpekpy(160, filters=[[\"Sn\", 1.0]], th_in_deg=12, mAs=0.5, z=150 - -40);\n",
    "\n",
    "# Poisson noise will be enable\n",
    "gvxr.enablePoissonNoise(); # Not needed as mAs was used in the function call above"
   ]
  },
  {
   "cell_type": "code",
   "execution_count": null,
   "id": "3744f4c9-11e5-4054-ae66-266eec7fcbd1",
   "metadata": {},
   "outputs": [],
   "source": [
    "# Plot the beam spectrum\n",
    "energy_bins = gvxr.getEnergyBins(\"keV\")\n",
    "photon_counts = gvxr.getPhotonCountEnergyBins()\n",
    "plt.figure(figsize=(20,10))\n",
    "plt.bar(energy_bins, photon_counts)\n",
    "plt.xlabel('Energy in keV')\n",
    "plt.ylabel('Photons per pixel')\n",
    "plt.title('Photon energy distribution')\n",
    "plt.xlim([0,200])\n",
    "plt.tight_layout()\n",
    "\n",
    "plt.savefig(\"../results/dragon-beam-spectrum.png\", dpi=20)\n",
    "plt.savefig(\"../results/dragon-beam-spectrum.pdf\", dpi=600)"
   ]
  },
  {
   "cell_type": "code",
   "execution_count": null,
   "id": "5cc898e7-d193-4775-a737-a4a18900d5dd",
   "metadata": {},
   "outputs": [],
   "source": [
    "# Locate the sample STL file from the package directory\n",
    "path = os.path.dirname(gvxr.__file__)\n",
    "fname = os.path.join(path, \"welsh-dragon-small.stl\")\n",
    "\n",
    "gvxr.loadMeshFile(\"Dragon\", fname, \"mm\")\n",
    "gvxr.moveToCentre(\"Dragon\");\n",
    "\n",
    "# Change the sample's colour\n",
    "# By default the object is white, which is not always pretty. Let's change it to gold.\n",
    "red = 255 / 255\n",
    "green = 215 / 255\n",
    "blue = 0 / 255\n",
    "gvxr.setColour(\"Dragon\", red, green, blue, 1.0)\n",
    "\n",
    "# Material properties\n",
    "\n",
    "# Iron (Z number: 26, symbol: Fe)\n",
    "# gvxr.setElement(\"Dragon\", 26)\n",
    "# gvxr.setElement(\"Dragon\", \"Fe\")\n",
    "\n",
    "# Liquid water\n",
    "# gvxr.setCompound(\"Dragon\", \"H2O\")\n",
    "# gvxr.setDensity(\"Dragon\", 1.0, \"g/cm3\")\n",
    "# gvxr.setDensity(\"Dragon\", 1.0, \"g.cm-3\")\n",
    "\n",
    "# Titanium Aluminum Vanadium Alloy\n",
    "# gvxr.setMixture(\"Dragon\", \"Ti90Al6V4\")\n",
    "gvxr.setMixture(\"Dragon\", [22, 13, 23], [0.9, 0.06, 0.04])\n",
    "# gvxr.setMixture(\"Dragon\", [\"Ti\", \"Al\", \"V\"], [0.9, 0.06, 0.04]) # Not yet implemented\n",
    "# gvxr.setDensity(\"Dragon\", 4.43, \"g/cm3\")\n",
    "gvxr.setDensity(\"Dragon\", 4.43, \"g.cm-3\")"
   ]
  },
  {
   "cell_type": "code",
   "execution_count": null,
   "id": "b1b01d55",
   "metadata": {},
   "outputs": [],
   "source": [
    "# Use k3d to perform the 3D visualisation\n",
    "plot = visualise()\n",
    "plot.display()"
   ]
  },
  {
   "cell_type": "code",
   "execution_count": null,
   "id": "3e67376a",
   "metadata": {},
   "outputs": [],
   "source": [
    "# Save the plot in an HTML file\n",
    "if plot:\n",
    "    with open('../results/dragon-snapshot.html','w') as fp:\n",
    "        fp.write(plot.get_snapshot())"
   ]
  },
  {
   "cell_type": "code",
   "execution_count": null,
   "id": "d77f2597-6699-4c1a-9a88-2c28eb63fba3",
   "metadata": {},
   "outputs": [],
   "source": [
    "# Compute an X-ray image\n",
    "x_ray_image = np.array(gvxr.computeXRayImage()).astype(np.single) / gvxr.getWhiteImage()"
   ]
  },
  {
   "cell_type": "code",
   "execution_count": null,
   "id": "aa54bad8-e7f8-4c24-9405-0f65e419abcf",
   "metadata": {},
   "outputs": [],
   "source": [
    "# Display the corresponding X-ray image\n",
    "plt.imshow(x_ray_image, cmap=\"gray\");\n",
    "plt.colorbar()\n",
    "plt.axis('off');"
   ]
  },
  {
   "cell_type": "code",
   "execution_count": null,
   "id": "82096e04-fa1d-4c63-8271-625e261bcfae",
   "metadata": {},
   "outputs": [],
   "source": [
    "# Change to a white background (it could be useful for putting screenshots in papers)\n",
    "gvxr.setWindowBackGroundColour(1.0, 1.0, 1.0, -1);"
   ]
  },
  {
   "cell_type": "code",
   "execution_count": null,
   "id": "9717ed4f-1801-490f-a717-acab200dc37c",
   "metadata": {},
   "outputs": [],
   "source": [
    "# Interactive visualisation\n",
    "# The user can rotate the 3D scene and zoom-in and -out in the visualisation window.\n",
    "# It can be useful to rotate the visualisation of the 3D environment and zoom in/out\n",
    "# to take the best posible screenshots\n",
    "\n",
    "# - Keys are:\n",
    "#     - Q/Escape: to quit the event loop (does not close the window)\n",
    "#     - B: display/hide the X-ray beam\n",
    "#     - W: display the polygon meshes in solid or wireframe\n",
    "#     - N: display the X-ray image in negative or positive\n",
    "#     - H: display/hide the X-ray detector\n",
    "# - Mouse interactions:\n",
    "#     - Zoom in/out: mouse wheel\n",
    "#     - Rotation: Right mouse button down + move cursor```\n",
    "# gvxr.renderLoop()"
   ]
  },
  {
   "cell_type": "code",
   "execution_count": null,
   "id": "117e9864-f6a0-455d-87cd-febcb35a96f2",
   "metadata": {},
   "outputs": [],
   "source": [
    "# Take and display a screenshot\n",
    "gvxr.setZoom(2500);\n",
    "gvxr.displayScene();\n",
    "screenshot = gvxr.takeScreenshot();\n",
    "plt.imshow(screenshot);\n",
    "plt.axis('off');"
   ]
  },
  {
   "cell_type": "markdown",
   "id": "7eb0e867-507c-48d5-825c-0055f9500d16",
   "metadata": {},
   "source": [
    "## Simulate the CT acquisition and save the projections"
   ]
  },
  {
   "cell_type": "code",
   "execution_count": null,
   "id": "2485e58f-4098-42e7-8efa-cce85427a0d1",
   "metadata": {},
   "outputs": [],
   "source": [
    "# Simulate a CT scan acquisition\n",
    "gvxr.computeCTAcquisition(\"../results/dragon-projs\", # Where to save the projections\n",
    "                          \"screenshots\", # Where to save the screenshots\n",
    "                          200, # Total number of projections\n",
    "                          0, # First angle\n",
    "                          True, # Include the last angle\n",
    "                          360, # Last angle\n",
    "                          60, # Number of flat images\n",
    "                          0, 0, 0, \"mm\", # Centre of rotation\n",
    "                          *gvxr.getDetectorUpVector()); # Rotation axis\n"
   ]
  },
  {
   "cell_type": "code",
   "execution_count": null,
   "id": "23331669-211e-439e-bdd7-395a76291518",
   "metadata": {},
   "outputs": [],
   "source": [
    "# Save a JSON file\n",
    "gvxr2json.saveJSON(\"../results/dragon.json\");"
   ]
  },
  {
   "cell_type": "markdown",
   "id": "6057f15d-42d4-4df4-a923-28af289f63b5",
   "metadata": {},
   "source": [
    "## Set the CT reconstruction parameters"
   ]
  },
  {
   "cell_type": "code",
   "execution_count": null,
   "id": "d8deffb6-8e43-4bd5-b863-79fd7cc70d16",
   "metadata": {},
   "outputs": [],
   "source": [
    "# Create the TIFF reader by passing the directory containing the files\n",
    "reader = TIFFStackReader(file_name=\"../results/dragon-projs\", dtype=np.float32)\n",
    "\n",
    "# Read in file, and return a numpy array containing the data\n",
    "data_original = reader.read()\n",
    "\n",
    "# The data is stored as a stack of detector images, we use the CILlabels for the axes\n",
    "axis_labels = ['angle','vertical','horizontal']"
   ]
  },
  {
   "cell_type": "code",
   "execution_count": null,
   "id": "9645cad4-6dc9-4553-ae8b-b54d27bcf8ff",
   "metadata": {},
   "outputs": [],
   "source": [
    "# Update the font size\n",
    "font = {'weight' : 'bold',\n",
    "        'size'   : 12}\n",
    "\n",
    "matplotlib.rc('font', **font)"
   ]
  },
  {
   "cell_type": "code",
   "execution_count": null,
   "id": "d036d69f-9a50-476f-a21e-19342613c3a6",
   "metadata": {},
   "outputs": [],
   "source": [
    "# Use show2D to visualise a projection\n",
    "show2D(data_original, origin=\"upper-left\")"
   ]
  },
  {
   "cell_type": "code",
   "execution_count": null,
   "id": "a33dc644-4947-4228-a81e-706bf769e3b6",
   "metadata": {},
   "outputs": [],
   "source": [
    "# Interactive visualisation in Jupyter\n",
    "islicer(data_original, origin=\"upper-left\")"
   ]
  },
  {
   "cell_type": "code",
   "execution_count": null,
   "id": "28834d81-cf4d-454e-8ef3-3855eb1cb32f",
   "metadata": {},
   "outputs": [],
   "source": [
    "# Normalisation\n",
    "# Not strictly needed as the data was already corrected\n",
    "data_normalised = data_original / data_original.max()\n",
    "\n",
    "# Prevent log of a negative value\n",
    "data_normalised[data_normalised<1e-9] = 1e-9\n",
    "\n",
    "# Linearisation\n",
    "data_absorption = -np.log(data_normalised)"
   ]
  },
  {
   "cell_type": "code",
   "execution_count": null,
   "id": "af130b18-d013-449e-abd0-12e120ba77d4",
   "metadata": {},
   "outputs": [],
   "source": [
    "# Create the CIL geoemtry\n",
    "geometry = AcquisitionGeometry.create_Cone3D(source_position=gvxr.getSourcePosition(\"cm\"),\n",
    "                                             detector_position=gvxr.getDetectorPosition(\"cm\"),\n",
    "                                             detector_direction_x=gvxr.getDetectorRightVector(),\n",
    "                                             detector_direction_y=gvxr.getDetectorUpVector(),\n",
    "                                             rotation_axis_position=gvxr.getCentreOfRotationPositionCT(\"cm\"),\n",
    "                                             rotation_axis_direction=gvxr.getRotationAxisCT())\n",
    "                                         \n",
    "# Set the angles, remembering to specify the units\n",
    "geometry.set_angles(np.array(gvxr.getAngleSetCT()), angle_unit='degree')\n",
    "\n",
    "# Set the detector shape and size\n",
    "geometry.set_panel(gvxr.getDetectorNumberOfPixels(), gvxr.getDetectorPixelSpacing(\"cm\"))\n",
    "\n",
    "# Set the order of the data\n",
    "geometry.set_labels(axis_labels)\n",
    "\n",
    "# Set the angles, remembering to specify the units\n",
    "geometry.set_angles(np.array(gvxr.getAngleSetCT()), angle_unit='degree')\n",
    "\n",
    "# Set the detector shape and size\n",
    "geometry.set_panel(gvxr.getDetectorNumberOfPixels(), gvxr.getDetectorPixelSpacing(\"cm\"))"
   ]
  },
  {
   "cell_type": "code",
   "execution_count": null,
   "id": "3532c0b0-b65c-4b8e-b710-7170ed5f909e",
   "metadata": {},
   "outputs": [],
   "source": [
    "# Shutdown the simulation engine\n",
    "gvxr.terminate()"
   ]
  },
  {
   "cell_type": "code",
   "execution_count": null,
   "id": "86baaa39-c2f0-46e5-8285-cb0b7d42a4d8",
   "metadata": {},
   "outputs": [],
   "source": [
    "# Display and save the geometry, does it look like a feasible CT scan set up?\n",
    "fig = show_geometry(geometry);\n",
    "fig.save(\"../results/dragon-geometry.png\");\n",
    "fig.save(\"../results/dragon-geometry.pdf\");\n"
   ]
  },
  {
   "cell_type": "code",
   "execution_count": null,
   "id": "4c692e74-99ea-4632-ab12-8127bd254f18",
   "metadata": {},
   "outputs": [],
   "source": [
    "# Print details of the scanning geometry\n",
    "print(geometry)"
   ]
  },
  {
   "cell_type": "code",
   "execution_count": null,
   "id": "41e72a34-9b5b-47a1-86ac-bdba23b4914f",
   "metadata": {},
   "outputs": [],
   "source": [
    "# Prepare the data for the reconstruction\n",
    "acquisition_data = AcquisitionData(data_absorption, deep_copy=False, geometry=geometry)\n",
    "acquisition_data.reorder(order='tigre')\n",
    "ig = acquisition_data.geometry.get_ImageGeometry()"
   ]
  },
  {
   "cell_type": "code",
   "execution_count": null,
   "id": "344a5c26-3dc2-4093-824b-06acb80816a9",
   "metadata": {},
   "outputs": [],
   "source": [
    "# Print details of the reconstructed volume\n",
    "print(ig)"
   ]
  },
  {
   "cell_type": "markdown",
   "id": "8250b268-a70b-4f1c-b6e9-f1a224a620b8",
   "metadata": {},
   "source": [
    "## Perform the CT reconstruction using the FDK algorithm and save the reconstructed volume"
   ]
  },
  {
   "cell_type": "code",
   "execution_count": null,
   "id": "9b2ae3ec-f3aa-40d5-8ef4-18f12cb67cb0",
   "metadata": {},
   "outputs": [],
   "source": [
    "# Perform the FDK reconstruction\n",
    "fdk =  FDK(acquisition_data, ig)\n",
    "recon = fdk.run()"
   ]
  },
  {
   "cell_type": "code",
   "execution_count": null,
   "id": "1c9de15c-9c5a-4a11-8b4b-bf7682e3d786",
   "metadata": {},
   "outputs": [],
   "source": [
    "# Show a 2D slice\n",
    "show2D(recon)"
   ]
  },
  {
   "cell_type": "code",
   "execution_count": null,
   "id": "c5985d61-aa8e-4301-9b99-75a23d2295be",
   "metadata": {},
   "outputs": [],
   "source": [
    "# Interactive visualisation in Jupyter\n",
    "islicer(recon)"
   ]
  },
  {
   "cell_type": "code",
   "execution_count": null,
   "id": "97aeedaa-17d9-4121-85cc-0cf1605f5914",
   "metadata": {},
   "outputs": [],
   "source": [
    "# Save the CT volume as a TIFF stack\n",
    "TIFFWriter(data=recon, file_name=os.path.join(\"../results/dragon-recons-FDK\", \"out\")).write()"
   ]
  },
  {
   "cell_type": "markdown",
   "id": "1170e119-3c04-469b-a0d6-d6b3b019aa84",
   "metadata": {},
   "source": [
    "## Perform the CT reconstruction using the SIRT algorithm and save the reconstructed volume"
   ]
  },
  {
   "cell_type": "code",
   "execution_count": null,
   "id": "4955340e-8096-4e69-b904-f9644cc724cc",
   "metadata": {},
   "outputs": [],
   "source": [
    "# Create projection operator using Astra-Toolbox.\n",
    "acquisition_data.reorder(order='astra')\n",
    "A = ProjectionOperator(ig, geometry, \"gpu\")"
   ]
  },
  {
   "cell_type": "code",
   "execution_count": null,
   "id": "f5a217fa-083b-41ea-b46a-f74e3fd016e0",
   "metadata": {},
   "outputs": [],
   "source": [
    "# Create the initial guess\n",
    "x0 = ig.allocate()\n",
    "\n",
    "# non-zero constraint\n",
    "constraint = IndicatorBox(lower=0)\n",
    "\n",
    "# Instantiate the reconstruction algorithm\n",
    "sirt = SIRT(initial=x0, operator=A, data=acquisition_data, constraint=constraint, max_iteration=500)"
   ]
  },
  {
   "cell_type": "code",
   "execution_count": null,
   "id": "0b78832f-f78a-46ac-809e-c52e4015646b",
   "metadata": {},
   "outputs": [],
   "source": [
    "# Perform 500 iterations\n",
    "sirt.update_objective_interval = 50\n",
    "sirt.run(500)\n",
    "\n",
    "recon_sirt_noisy = sirt.solution"
   ]
  },
  {
   "cell_type": "code",
   "execution_count": null,
   "id": "0004b33a-4d2d-4988-ac6d-c3ac1c905084",
   "metadata": {},
   "outputs": [],
   "source": [
    "# Show a 2D slice\n",
    "show2D(recon_sirt_noisy)"
   ]
  },
  {
   "cell_type": "code",
   "execution_count": null,
   "id": "171c213a-f488-421f-8836-c0c99f3ea5df",
   "metadata": {},
   "outputs": [],
   "source": [
    "# Interactive visualisation in Jupyter\n",
    "islicer(recon_sirt_noisy)"
   ]
  },
  {
   "cell_type": "code",
   "execution_count": null,
   "id": "8713efcc-c8d3-4174-b432-357b2ad70ae2",
   "metadata": {},
   "outputs": [],
   "source": [
    "# Show a comparison\n",
    "fig = show2D([recon, recon_sirt_noisy, (recon-recon_sirt_noisy).abs()], \\\n",
    "       ['FBP', 'SIRT', 'difference'], \\\n",
    "       cmap=\"gray\", num_cols=3, size=(15,15), origin='bottom-left', fix_range=True);\n",
    "\n",
    "fig.save(\"../results/dragon-comparison.png\", dpi=300)\n",
    "fig.save(\"../results/dragon-comparison.pdf\", dpi=600)"
   ]
  },
  {
   "cell_type": "code",
   "execution_count": null,
   "id": "a4dcc6c2-24da-432e-a43d-688ec8398cdd",
   "metadata": {},
   "outputs": [],
   "source": [
    "# Save the CT volume as a TIFF stack\n",
    "TIFFWriter(data=recon_sirt_noisy, file_name=os.path.join(\"../results/dragon-recons-SIRT\", \"out\")).write()"
   ]
  }
 ],
 "metadata": {
  "kernelspec": {
   "display_name": "Python 3 (ipykernel)",
   "language": "python",
   "name": "python3"
  },
  "language_info": {
   "codemirror_mode": {
    "name": "ipython",
    "version": 3
   },
   "file_extension": ".py",
   "mimetype": "text/x-python",
   "name": "python",
   "nbconvert_exporter": "python",
   "pygments_lexer": "ipython3",
   "version": "3.10.14"
  }
 },
 "nbformat": 4,
 "nbformat_minor": 5
}
