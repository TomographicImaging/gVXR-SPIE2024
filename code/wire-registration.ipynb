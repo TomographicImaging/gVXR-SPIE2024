{
 "cells": [
  {
   "cell_type": "code",
   "execution_count": null,
   "id": "a66a130a",
   "metadata": {},
   "outputs": [],
   "source": [
    "# -*- coding: utf-8 -*-\n",
    "#  Copyright 2024 United Kingdom Research and Innovation\n",
    "#\n",
    "#  Licensed under the Apache License, Version 2.0 (the \"License\");\n",
    "#  you may not use this file except in compliance with the License.\n",
    "#  You may obtain a copy of the License at\n",
    "#\n",
    "#      http://www.apache.org/licenses/LICENSE-2.0\n",
    "#\n",
    "#  Unless required by applicable law or agreed to in writing, software\n",
    "#  distributed under the License is distributed on an \"AS IS\" BASIS,\n",
    "#  WITHOUT WARRANTIES OR CONDITIONS OF ANY KIND, either express or implied.\n",
    "#  See the License for the specific language governing permissions and\n",
    "#  limitations under the License.\n",
    "#\n",
    "#   Authored by:    Franck P. Vidal (UKRI-STFC)"
   ]
  },
  {
   "cell_type": "markdown",
   "id": "572914b2",
   "metadata": {},
   "source": [
    "# Register the original CAD model onto the experimental 2D radiographs\n",
    "\n",
    "1. Load the metadata from the experiment;\n",
    "2. Create a simulation environment;\n",
    "    1. Start the simulation engine;\n",
    "    2. Set a monochromatic source;\n",
    "    3. Set the detector;\n",
    "    4. Load the 3D surface of the aluminium part;\n",
    "    5. Generate an X-ray image and show a visualisation of the simulation environment;\n",
    "    6. Load the experimental images;\n",
    "    7. Compare the simulated image with the experimental images;\n",
    "3. Roughly align the 3D object;\n",
    "    1. Run the optimisation;\n",
    "    2. Show the evolution of the objective function;\n",
    "    3. Compare the simulated image with the experimental images after registration;\n",
    "4. More accurate alignment;\n",
    "    1. Reduce the downsampling rate and increase the number of angles used;\n",
    "    2. Compare the simulated image with the experimental images before the new registration;\n",
    "    3. Perform the optimisation;\n",
    "    4. Show the evolution of the objective function;\n",
    "    5. Compare the simulated image with the experimental images after registration;\n",
    "5. Repeat the previous optimisation;\n",
    "    1. Use full resolution;\n",
    "    2. Compare the simulated image with the experimental images before the new registration;\n",
    "    3. Perform the optimisation;\n",
    "    4. Show the evolution of the objective function;\n",
    "    5. Compare the simulated image with the experimental images after registration;\n",
    "6. Realistic parameters;\n",
    "    1. Use the full resolution;\n",
    "    2. Use a realistic beam spectrum;\n",
    "    3. Add the scintillator to the detector;\n",
    "    4. Compare the simulated image with the experimental images;\n",
    "7. Perform a simulation of the CT scan acquisition;\n",
    "    1. Apply the results of the optimisation;\n",
    "    2. Perform the CT scan acquisition;\n",
    "    3. Save the corresponding JSON file;\n",
    "8. CT reconstruction with CIL   \n",
    "    1. Load the simulated projections;\n",
    "    2. Inspect the geometry;\n",
    "    3. Apply the minus log;\n",
    "    4. Define a ROI to save resources;\n",
    "    5. Reconstruct the CT volume with CIL;\n",
    "    6. Save the reconstructed CT volume to disk for example as a stack of TIFFs;\n",
    "9. Voxelisation of the 3D object in the same volume space as the CT scan;\n",
    "    1. Use a monochromatic beam;\n",
    "    2. Use a constant for the linear attenuation coefficient of the sample, e.g. &mu; = 0.1 cm<sup>-1</sup>;\n",
    "    3. Perform a CT scan acquisition in the same geometrical conditions;\n",
    "10. Stop the simulation engine;   \n",
    "11. CT reconstruction with CIL\n",
    "    1. Load the simulated projections;\n",
    "    2. Apply the minus log;\n",
    "    3. Define a ROI to save resources;\n",
    "    4. Reconstruct the CT volume with CIL; and\n",
    "    5. Binarise the valume and save it to disk for example as a stack of TIFFs."
   ]
  },
  {
   "cell_type": "code",
   "execution_count": null,
   "id": "004d024b-297d-4f00-8d84-9ada902dcb04",
   "metadata": {},
   "outputs": [],
   "source": [
    "%matplotlib inline\n",
    "\n",
    "# Import packages\n",
    "import os, math, time, sys, shutil\n",
    "import numpy as np\n",
    "from pathlib import Path\n",
    "\n",
    "from tifffile import imread, imwrite\n",
    "# from imageio import mimwrite\n",
    "import matplotlib.pyplot as plt\n",
    "\n",
    "import cma\n",
    "\n",
    "from skimage.transform import pyramid_gaussian\n",
    "from skimage.metrics import structural_similarity as ssim\n",
    "\n",
    "from gvxrPython3 import gvxr\n",
    "from gvxrPython3 import gvxr2json\n",
    "from gvxrPython3.utils import visualise, loadSpectrumSpekpy, loadSpectrumXpecgen, has_spekpy, has_xpecgen\n",
    "\n",
    "# import utils\n",
    "# from utils import *"
   ]
  },
  {
   "cell_type": "code",
   "execution_count": null,
   "id": "b683aa1b-7458-4fe7-9601-6275f04652d5",
   "metadata": {},
   "outputs": [],
   "source": [
    "x_default = 4*[0.5]\n",
    "bounds = [4*[-1.0], 4*[1.0]]"
   ]
  },
  {
   "cell_type": "code",
   "execution_count": null,
   "id": "c7ebe1d9-cbd2-43c0-9de1-ae02aec408e6",
   "metadata": {},
   "outputs": [],
   "source": [
    "scan_string = \"Wire-Cu-2mm-17.54umvx\"\n",
    "\n",
    "data_path = os.path.join(\"/run/media/fpvidal/DATA/CT/2023/DTHE\", scan_string);\n",
    "projection_path = os.path.join(data_path, \"Proj\");"
   ]
  },
  {
   "cell_type": "code",
   "execution_count": null,
   "id": "326a6110-fde8-4098-a276-340ff7046ff4",
   "metadata": {},
   "outputs": [],
   "source": [
    "# Where the data will be saved\n",
    "registration_dir = \"../results/wire-registration\";\n",
    "\n",
    "# Create the directory\n",
    "if not os.path.exists(registration_dir):\n",
    "    os.mkdir(registration_dir);"
   ]
  },
  {
   "cell_type": "markdown",
   "id": "1f7f331c",
   "metadata": {},
   "source": [
    "## 1. Load the metadata from the experiment\n",
    "\n",
    "We want to replicate the real experiment by simulation. The data extracted from the experiment parameters will be used to set the simulation."
   ]
  },
  {
   "cell_type": "code",
   "execution_count": null,
   "id": "bea19a59-5875-422f-af34-8cdc0384b5af",
   "metadata": {},
   "outputs": [],
   "source": [
    "from DTHEDataReader import *\n",
    "reader = DTHEDataReader(directory_path=data_path);"
   ]
  },
  {
   "cell_type": "code",
   "execution_count": null,
   "id": "73ee6b1b-ec47-4a8c-b891-fd3df09d500b",
   "metadata": {},
   "outputs": [],
   "source": [
    "geometry = reader.get_geometry();\n",
    "print(geometry);"
   ]
  },
  {
   "cell_type": "code",
   "execution_count": null,
   "id": "a90927eb-886e-4b8e-848c-d93c2f1c9892",
   "metadata": {},
   "outputs": [],
   "source": [
    "volume_centre_position = geometry.config.system.volume_centre_position;\n",
    "source_position_set = geometry.config.system.source.position_set;\n",
    "detector_position_set = geometry.config.system.detector.position_set;\n",
    "detector_direction_x_set = geometry.config.system.detector.direction_x_set;\n",
    "detector_direction_y_set = geometry.config.system.detector.direction_y_set;"
   ]
  },
  {
   "cell_type": "code",
   "execution_count": null,
   "id": "18b96c73-4497-4bb3-a69d-3e9673388ba5",
   "metadata": {},
   "outputs": [],
   "source": [
    "image_geometry = geometry.get_ImageGeometry();\n",
    "print(image_geometry)"
   ]
  },
  {
   "cell_type": "code",
   "execution_count": null,
   "id": "778bbfc0-d29f-4ab8-b7ad-87936a738ec2",
   "metadata": {},
   "outputs": [],
   "source": [
    "print(geometry.config.panel)"
   ]
  },
  {
   "cell_type": "code",
   "execution_count": null,
   "id": "ad8825e1-edf5-4e84-b241-d024ec7c518a",
   "metadata": {},
   "outputs": [],
   "source": [
    "experimental_img_paths = reader.projection_fname_set;"
   ]
  },
  {
   "cell_type": "markdown",
   "id": "14933000-6c5d-4615-af3c-0f3076dd8574",
   "metadata": {},
   "source": [
    "## 2. Create a simulation environment\n",
    "\n",
    "### 2.1 Start the simulation engine"
   ]
  },
  {
   "cell_type": "code",
   "execution_count": null,
   "id": "ceeff404-5869-497c-9f7e-267679b46af3",
   "metadata": {},
   "outputs": [],
   "source": [
    "gvxr.createOpenGLContext();"
   ]
  },
  {
   "cell_type": "markdown",
   "id": "00914bf5-9207-47e2-81bb-56a5d6e0f908",
   "metadata": {},
   "source": [
    "### 2.2 Set a monochromatic source\n",
    "\n",
    "We want to align the object on the real radiographs. Having a monochromatic source will speed-up the process."
   ]
  },
  {
   "cell_type": "code",
   "execution_count": null,
   "id": "f5fb55f6-1131-4a33-9b64-a14e3527b341",
   "metadata": {},
   "outputs": [],
   "source": [
    "# Set its spectrum, here a monochromatic beam\n",
    "# 15000 photons of 88 keV per ray\n",
    "gvxr.setMonoChromatic(98, \"keV\", 15000);\n",
    "    \n",
    "gvxr.usePointSource();\n",
    "gvxr.setSourcePosition(source_position_set[0][0], source_position_set[0][1], source_position_set[0][2], \"mm\");"
   ]
  },
  {
   "cell_type": "markdown",
   "id": "64dbaf6d-4981-4c0f-87f3-15cf25d74618",
   "metadata": {},
   "source": [
    "### 2.3 Set the detector"
   ]
  },
  {
   "cell_type": "code",
   "execution_count": null,
   "id": "2feb9fbf-b5d0-4368-9fae-941b782b610c",
   "metadata": {},
   "outputs": [],
   "source": [
    "gvxr.autoAlignDetector(False);\n",
    "gvxr.setDetectorPosition(detector_position_set[0][0], detector_position_set[0][1], detector_position_set[0][2], \"mm\");\n",
    "gvxr.setDetectorUpVector(detector_direction_y_set[0][0], detector_direction_y_set[0][1], detector_direction_y_set[0][2]);\n",
    "gvxr.setDetectorRightVector(detector_direction_x_set[0][0], detector_direction_x_set[0][1], detector_direction_x_set[0][2]);\n",
    "\n",
    "# To speed up the alignment, we can downsample the images:\n",
    "# let pixels to compute in the simulated images, and let pixels to compare with the experimental images\n",
    "downscale = 8;\n",
    "gvxr.setDetectorNumberOfPixels(round(geometry.config.panel.num_pixels[0] / downscale), round(geometry.config.panel.num_pixels[1] / downscale));\n",
    "gvxr.setDetectorPixelSize(geometry.config.panel.pixel_size[0] * downscale, geometry.config.panel.pixel_size[1] * downscale, \"mm\");"
   ]
  },
  {
   "cell_type": "markdown",
   "id": "26d99352",
   "metadata": {},
   "source": [
    "### 2.4 Load the 3D surface of the aluminium part"
   ]
  },
  {
   "cell_type": "code",
   "execution_count": null,
   "id": "e32d4d97-4d46-4327-bde0-9f5b32837f18",
   "metadata": {},
   "outputs": [],
   "source": [
    "# Where the files are\n",
    "mesh_dir = \"../data\"\n",
    "\n",
    "# Make sure we start we a clean environment (useful when debugging)\n",
    "gvxr.removePolygonMeshesFromSceneGraph();\n",
    "\n",
    "# Select which STL files to use\n",
    "gvxr.loadMeshFile(\"cable_sleeve\", \"../data/cable_sleeve.stl\", \"mm\", True, \"root\")\n",
    "gvxr.loadMeshFile(\"copper_wires\", \"../data/copper_wires.stl\", \"mm\", True, \"cable_sleeve\")\n",
    "gvxr.invertNormalVectors(\"cable_sleeve\")\n",
    "gvxr.invertNormalVectors(\"copper_wires\")\n",
    "\n",
    "# Set the default material properties\n",
    "default_copper_density = 8.96\n",
    "default_cable_insulation_density = (1.1 + 1.35) / 2 # Flexible PVC\n",
    "\n",
    "gvxr.setCompound(\"cable_sleeve\", \"C3H3Cl3\") # PVC\n",
    "gvxr.setDensity(\"cable_sleeve\", default_cable_insulation_density, \"g/cm3\")\n",
    "gvxr.setColour(\"cable_sleeve\", 0.83, 0.83, 0.83, 0.2)\n",
    "\n",
    "gvxr.setCompound(\"copper_wires\", \"Cu\") # Copper\n",
    "gvxr.setDensity(\"copper_wires\", default_copper_density, \"g/cm3\")\n",
    "gvxr.setColour(\"copper_wires\", 0.722, 0.451, 0.2, 1)\n",
    "\n",
    "bbox_in_mm = gvxr.getNodeAndChildrenBoundingBox(\"cable_sleeve\", \"mm\")\n",
    "\n",
    "\n",
    "gvxr.translateNode(\"cable_sleeve\",\n",
    "                    -bbox_in_mm[0] - (bbox_in_mm[3] - bbox_in_mm[0]) / 2.0,\n",
    "                    -bbox_in_mm[1] - (bbox_in_mm[4] - bbox_in_mm[1]) / 2.0,\n",
    "                    -bbox_in_mm[2] - (bbox_in_mm[5] - bbox_in_mm[2]) / 2.0,\n",
    "                    \"mm\"\n",
    "                    );\n",
    "\n",
    "gvxr.rotateNode(\"cable_sleeve\", 300, 0, 0);\n",
    "\n",
    "gvxr.translateNode(\"cable_sleeve\",\n",
    "                   volume_centre_position[0],\n",
    "                   volume_centre_position[1],\n",
    "                   volume_centre_position[2],\n",
    "                   \"mm\");\n",
    "\n",
    "# gvxr.applyCurrentLocalTransformation(\"cable_sleeve\");"
   ]
  },
  {
   "cell_type": "code",
   "execution_count": null,
   "id": "ddac8664-de88-4a35-af47-2e337088abe7",
   "metadata": {},
   "outputs": [],
   "source": [
    "# gvxr.renderLoop()"
   ]
  },
  {
   "cell_type": "markdown",
   "id": "2e594d47-a2ba-4a83-9c77-7b733e474eb7",
   "metadata": {},
   "source": [
    "### 2.5 Generate an X-ray image and show a visualisation of the simulation environment"
   ]
  },
  {
   "cell_type": "code",
   "execution_count": null,
   "id": "df5f1638-5e44-4d52-b08b-34850e03af4a",
   "metadata": {},
   "outputs": [],
   "source": [
    "# Compute an X-ray image\n",
    "# We convert the array in a Numpy structure and store the data using single-precision floating-point numbers.\n",
    "x_ray_image = np.array(gvxr.computeXRayImage()).astype(np.single);\n",
    "\n",
    "# Update the visualisation window\n",
    "gvxr.displayScene();\n",
    "gvxr.setZoom(1130);\n",
    "gvxr.setSceneRotationMatrix((-0.5052807927131653, 0.007959646172821522, 0.862915575504303, 0.0,\n",
    "                             0.86295086145401, 0.0018172189593315125, 0.5052816271781921, 0.0,\n",
    "                             0.002453952096402645, 0.9999664425849915, -0.0077874502167105675, 0.0,\n",
    "                             0.0, 0.0, 0.0, 1.0));\n",
    "gvxr.displayScene();\n",
    "\n",
    "# Take a screenshot\n",
    "screenshot = gvxr.takeScreenshot();\n",
    "\n",
    "# Display the corresponding image\n",
    "plt.figure();\n",
    "plt.imshow(screenshot);\n",
    "plt.show();"
   ]
  },
  {
   "cell_type": "code",
   "execution_count": null,
   "id": "c4e9df8e-6f0f-4802-b480-288f50a9f4c9",
   "metadata": {},
   "outputs": [],
   "source": [
    "plt.figure()\n",
    "plt.imshow(x_ray_image, cmap=\"gray\")"
   ]
  },
  {
   "cell_type": "markdown",
   "id": "373c88bd-e98a-4eac-8f5d-3cf7e5ddee17",
   "metadata": {},
   "source": [
    "### 2.6 Load the experimental images\n",
    "\n",
    "Downsampling is used, and 3 angles only are used."
   ]
  },
  {
   "cell_type": "code",
   "execution_count": null,
   "id": "1701e885-27f1-4aa1-b7d3-e87b2ea859f8",
   "metadata": {},
   "outputs": [],
   "source": [
    "def getReference(experimental_img_paths, number_of_angles, downscale: int=1):\n",
    "\n",
    "    images = []\n",
    "    indices = []\n",
    "\n",
    "    for i in range(number_of_angles):\n",
    "\n",
    "        if number_of_angles == 1:\n",
    "            index = 0\n",
    "        else:\n",
    "            # index = round((i + 1) / number_of_angles * (len(experimental_img_paths) // 2))\n",
    "            index = round((i + 1) / number_of_angles * (len(experimental_img_paths) - 1))\n",
    "\n",
    "        projection = imread(experimental_img_paths[index]).astype(np.single)\n",
    "\n",
    "        if downscale <= 1:\n",
    "            images.append(projection)\n",
    "        else:\n",
    "            pyramid = tuple(pyramid_gaussian(projection, downscale=downscale, channel_axis=None))\n",
    "            images.append(pyramid[1])\n",
    "\n",
    "        indices.append(index)\n",
    "\n",
    "    ncols = images[-1].shape[1]\n",
    "    images = np.array(images) / np.max(images)\n",
    "\n",
    "    images /= np.median(images[:,:,0:ncols//5])\n",
    "    images *= 255\n",
    "    images[images>255]=255\n",
    "    return np.round(images).astype(np.uint8), np.array(indices)"
   ]
  },
  {
   "cell_type": "code",
   "execution_count": null,
   "id": "f7a591f0-90c4-4f96-8e16-8fc83bbc5f14",
   "metadata": {
    "tags": []
   },
   "outputs": [],
   "source": [
    "downscale = 8;\n",
    "ref_image, indices = getReference(experimental_img_paths, 5, downscale);\n",
    "\n",
    "selected_source_position_set = [];\n",
    "selected_detector_position_set = [];\n",
    "selected_detector_direction_x_set = [];\n",
    "selected_detector_direction_y_set = [];\n",
    "\n",
    "for i in indices:\n",
    "    selected_source_position_set.append(source_position_set[i]);\n",
    "    selected_detector_position_set.append(detector_position_set[i]);\n",
    "    selected_detector_direction_x_set.append(detector_direction_x_set[i]);\n",
    "    selected_detector_direction_y_set.append(detector_direction_y_set[i]);"
   ]
  },
  {
   "cell_type": "markdown",
   "id": "c81592cb-8442-459d-b809-5829e39c2132",
   "metadata": {},
   "source": [
    "### 2.7 Compare the simulated image with the experimental images\n",
    "\n",
    "It allows us to make sure that the object is well oriented in the simulation and that the rotation is performed in the same way as in the experiment."
   ]
  },
  {
   "cell_type": "code",
   "execution_count": null,
   "id": "e4b17a35-a6e5-4c8b-9147-39bf2f59de00",
   "metadata": {},
   "outputs": [],
   "source": [
    "DPI = 300\n",
    "def displayResult(x, figsize=(15, 4), fname=None, crop=False):\n",
    "    global screenshot, bbox, DPI\n",
    "    test_image = getXrayImage(x, True)\n",
    "\n",
    "    roi_size = [ref_image.shape[1], ref_image.shape[2]]\n",
    "    offset = [0, 0]\n",
    "\n",
    "    if crop:\n",
    "\n",
    "        roi_size[0] = round(0.9 * roi_size[0])\n",
    "        roi_size[1] = round(0.7 * roi_size[1])\n",
    "\n",
    "        offset = [\n",
    "            (ref_image.shape[1] - roi_size[0]) // 2,\n",
    "            (ref_image.shape[2] - roi_size[1]) // 2\n",
    "        ]\n",
    "\n",
    "    ref_tmp = np.array(ref_image, dtype=np.single)\n",
    "    test_tmp = np.array(test_image, dtype=np.single)\n",
    "\n",
    "    MAE = 0.0\n",
    "    RMSE = 0.0\n",
    "    SSIM = 0.0\n",
    "    ZNCC = 0.0\n",
    "\n",
    "    SSIM = 0.0\n",
    "\n",
    "    for img1, img2 in zip(ref_tmp, test_tmp):\n",
    "\n",
    "        tmp1 = img1[offset[0]:roi_size[0], offset[1]:roi_size[1]]\n",
    "        tmp2 = img2[offset[0]:roi_size[0], offset[1]:roi_size[1]]\n",
    "\n",
    "        MAE += compareMAE(tmp1, tmp2);\n",
    "        RMSE += math.sqrt(compareMSE(tmp1, tmp2));\n",
    "        SSIM += ssim(tmp1, tmp2, data_range=(tmp1.max() - tmp1.min()));\n",
    "\n",
    "        tmp1 -= tmp1.mean()\n",
    "        tmp1 /= tmp1.std()\n",
    "\n",
    "        tmp2 -= tmp2.mean()\n",
    "        tmp2 /= tmp2.std()\n",
    "\n",
    "        ZNCC += 100 * (tmp1 * tmp2).mean()\n",
    "\n",
    "    MAE /= ref_image.shape[0]\n",
    "    RMSE /= ref_image.shape[0]\n",
    "    SSIM /= ref_image.shape[0]\n",
    "    ZNCC /= ref_image.shape[0]\n",
    "\n",
    "    fig, axs = plt.subplots(len(ref_image), 4, figsize=figsize, squeeze=False)\n",
    "    plt.suptitle(\"Overall ZNCC=\" + \"{:.2f}\".format(ZNCC) + \"%\\n\" +\n",
    "                \"Overall MAE=\" + \"{:.2f}\".format(MAE) + \"\\n\" +\n",
    "                \"Overall RMSE=\" + \"{:.2f}\".format(RMSE) + \"\\n\" +\n",
    "                \"Overall SSIM=\" + \"{:.2f}\".format(SSIM))\n",
    "\n",
    "    for index in range(len(ref_image)):\n",
    "        axs[index][0].imshow(screenshot[index])\n",
    "        axs[index][1].imshow(ref_image[index], cmap=\"gray\", vmin=0, vmax=255)\n",
    "        axs[index][2].imshow(test_image[index], cmap=\"gray\", vmin=0, vmax=255)\n",
    "        im = axs[index][3].imshow((ref_image[index].astype(np.int16) - test_image[index].astype(np.int16)), cmap=\"RdBu\", vmin=-255, vmax=255)\n",
    "        \n",
    "        axs[index][0].set_title(\"Image: \" + str(indices[index]))\n",
    "            \n",
    "        axs[index][1].set_title(\"Experimental radiograph\")\n",
    "        axs[index][2].set_title(\"Simulated radiograph\")\n",
    "        axs[index][3].set_title(\"Error map\")\n",
    "\n",
    "        axs[index][1].set_xlim((offset[1], offset[1] + roi_size[1]))\n",
    "        axs[index][2].set_xlim((offset[1], offset[1] + roi_size[1]))\n",
    "        axs[index][3].set_xlim((offset[1], offset[1] + roi_size[1]))\n",
    "\n",
    "        axs[index][1].set_ylim((offset[0], offset[0] + roi_size[0]))\n",
    "        axs[index][2].set_ylim((offset[0], offset[0] + roi_size[0]))\n",
    "        axs[index][3].set_ylim((offset[0], offset[0] + roi_size[0]))\n",
    "\n",
    "\n",
    "    plt.tight_layout()\n",
    "\n",
    "    if fname is not None:\n",
    "        plt.savefig(fname + '.pdf', bbox_inches = 'tight', dpi=DPI)\n",
    "        plt.savefig(fname + '.png', bbox_inches = 'tight', dpi=DPI)"
   ]
  },
  {
   "cell_type": "code",
   "execution_count": null,
   "id": "d1e4c16a-dd01-43d2-b3ad-c4a94536d22c",
   "metadata": {},
   "outputs": [],
   "source": [
    "def getXrayImage(x, take_screenshot=False):\n",
    "\n",
    "    global screenshot, x_current, bounds\n",
    "    screenshot = []\n",
    "\n",
    "    test_image = np.zeros((len(selected_source_position_set), gvxr.getDetectorNumberOfPixels()[1], gvxr.getDetectorNumberOfPixels()[0]), dtype=np.uint8)\n",
    "\n",
    "    total_incident_energy = gvxr.getTotalEnergyWithDetectorResponse()\n",
    "    transformation = []\n",
    "    \n",
    "    if len(x) == 6:\n",
    "        for lower_bound, upper_bound, val in zip(bounds[0], bounds[1], x):\n",
    "            transformation.append(lower_bound + val * (upper_bound - lower_bound));\n",
    "            \n",
    "    elif len(x) == 4:\n",
    "        for lower_bound, upper_bound, val in zip(bounds[0], bounds[1], x):\n",
    "            transformation.append(lower_bound + val * (upper_bound - lower_bound));\n",
    "            \n",
    "        transformation.append(0.0)\n",
    "        transformation.append(0.0)\n",
    "\n",
    "    elif len(x) == 2:\n",
    "        transformation = 6*[0]\n",
    "\n",
    "        gvxr.setDensity(\"cable_sleeve\", default_cable_insulation_density * x[0], \"g/cm3\")\n",
    "        gvxr.setDensity(\"copper_wires\", default_copper_density * x[1], \"g/cm3\")\n",
    "        \n",
    "#     elif len(x) == 4:\n",
    "#         transformation = [x[0], x[1], x[2], x[3]]\n",
    "#     elif len(x) == 3:\n",
    "#         transformation = [x[0], x[1], x[2], 0.0, 0.0, 0.0]\n",
    "#     elif len(x) == 5:\n",
    "#         transformation = [x[0], x[1], x[2], x[3], x[4]]\n",
    "#     elif len(x) == 6:\n",
    "#         transformation = np.copy(x)\n",
    "#     elif len(x) == len(default_weights):\n",
    "#         transformation = np.copy(x_current)\n",
    "\n",
    "#         backup_density = gvxr.getDensity(sample_label)\n",
    "\n",
    "#         temp_weight = []\n",
    "#         for i in range(len(default_weights)):\n",
    "#             temp_weight.append(x[i] * default_weights[i])\n",
    "\n",
    "#         gvxr.setMixture(sample_label,\n",
    "#                         elements,\n",
    "#                         np.array(temp_weight) / np.sum(temp_weight))\n",
    "\n",
    "#         gvxr.setDensity(sample_label, default_density, \"g/cm3\")\n",
    "#         # gvxr.setDensity(sample_label, x[0] * default_density, \"g/cm3\")\n",
    "\n",
    "    label = \"cable_sleeve\"\n",
    "\n",
    "    matrix_backup = gvxr.getLocalTransformationMatrix(label)\n",
    "\n",
    "    # Sample position on turntable\n",
    "    gvxr.translateNode(label, transformation[0], transformation[1], transformation[2], \"mm\")\n",
    "\n",
    "    gvxr.rotateNode(label, transformation[3], transformation[4], transformation[5])\n",
    "\n",
    "    for i, (source_position, detector_position, detector_direction_x, detector_direction_y) in enumerate(zip(selected_source_position_set, selected_detector_position_set, selected_detector_direction_x_set, selected_detector_direction_y_set)):\n",
    "\n",
    "        gvxr.setSourcePosition(source_position[0], source_position[1], source_position[2], \"mm\");\n",
    "\n",
    "        gvxr.autoAlignDetector(False);\n",
    "        gvxr.setDetectorPosition(detector_position[0], detector_position[1], detector_position[2], \"mm\");\n",
    "        gvxr.setDetectorUpVector(detector_direction_y[0], detector_direction_y[1], detector_direction_y[2]);\n",
    "        gvxr.setDetectorRightVector(detector_direction_x[0], detector_direction_x[1], detector_direction_x[2]);\n",
    "\n",
    "        # Compute an X-ray image\n",
    "        # We convert the array in a Numpy structure and store the data using single-precision floating-point numbers.\n",
    "        xray_image = np.array(gvxr.computeXRayImage(), dtype=np.single) / total_incident_energy\n",
    "        \n",
    "        test_image[i] = np.round(255 * xray_image).astype(np.uint8)\n",
    "\n",
    "        # Update the visualisation window\n",
    "        if take_screenshot:\n",
    "\n",
    "            gvxr.displayScene()\n",
    "            screenshot.append(gvxr.takeScreenshot())\n",
    "\n",
    "    gvxr.setLocalTransformationMatrix(label, matrix_backup)\n",
    "\n",
    "            \n",
    "#     if len(x) == len(default_weights) + 1:\n",
    "#         gvxr.setMixture(sample_label,\n",
    "#                         elements,\n",
    "#                         default_weights)\n",
    "\n",
    "#         gvxr.setDensity(sample_label, backup_density, \"g/cm3\")\n",
    "\n",
    "    return test_image"
   ]
  },
  {
   "cell_type": "code",
   "execution_count": null,
   "id": "691003ce-8017-4816-aeff-b3aa82a15e3a",
   "metadata": {},
   "outputs": [],
   "source": [
    "def compareMAE(ref, test):\n",
    "    return np.abs(ref - test).mean()\n",
    "\n",
    "def compareMSE(ref, test):\n",
    "    return np.square(ref - test).mean()\n",
    "\n",
    "def compareRMSE(ref, test):\n",
    "    return math.sqrt(compareMSE(ref, test))\n",
    "\n",
    "def compareZNCC(ref, test):\n",
    "    if ref.std() < 1e-4 or test.std() < 1e-4:\n",
    "        return 1e-4\n",
    "\n",
    "    return np.mean(((ref - ref.mean()) / ref.std()) * ((test - test.mean()) / test.std()))\n",
    "\n",
    "def compareSSIM(ref, test):\n",
    "\n",
    "    channel_axis = None\n",
    "    if len(ref.shape) == 3:\n",
    "        channel_axis = 0\n",
    "\n",
    "    return ssim(ref, test, channel_axis=channel_axis, data_range=(ref.max()-ref.min()))\n"
   ]
  },
  {
   "cell_type": "code",
   "execution_count": null,
   "id": "9df3cf12-451d-45a2-878a-3a779b478071",
   "metadata": {},
   "outputs": [],
   "source": [
    "# best_fitness = sys.float_info.max\n",
    "# fitness_set = []\n",
    "# counter = 1\n",
    "# best_angle = 0;\n",
    "\n",
    "# plot_directory = os.path.join(registration_dir, \"plot0\")\n",
    "\n",
    "# if os.path.isdir(plot_directory):\n",
    "#     shutil.rmtree(plot_directory)\n",
    "\n",
    "# if not os.path.exists(plot_directory):\n",
    "#     os.mkdir(plot_directory)    \n",
    "\n",
    "# for angle in range(380):\n",
    "#     gvxr.setLocalTransformationMatrix(\"cable_sleeve\", [1, 0, 0, 0, 0, 1, 0, 0, 0, 0, 1, 0, 0, 0, 0, 1])\n",
    "    \n",
    "#     bbox_in_mm = gvxr.getNodeAndChildrenBoundingBox(\"cable_sleeve\", \"mm\")\n",
    "\n",
    "\n",
    "#     gvxr.translateNode(\"cable_sleeve\",\n",
    "#                         -bbox_in_mm[0] - (bbox_in_mm[3] - bbox_in_mm[0]) / 2.0,\n",
    "#                         -bbox_in_mm[1] - (bbox_in_mm[4] - bbox_in_mm[1]) / 2.0,\n",
    "#                         -bbox_in_mm[2] - (bbox_in_mm[5] - bbox_in_mm[2]) / 2.0,\n",
    "#                         \"mm\"\n",
    "#                         );\n",
    "\n",
    "#     gvxr.rotateNode(\"cable_sleeve\", angle, 0, 0);\n",
    "\n",
    "#     gvxr.translateNode(\"cable_sleeve\",\n",
    "#                        volume_centre_position[0],\n",
    "#                        volume_centre_position[1],\n",
    "#                        volume_centre_position[2],\n",
    "#                        \"mm\");\n",
    "\n",
    "\n",
    "#     # gvxr.displayScene()\n",
    "    \n",
    "    \n",
    "    \n",
    "\n",
    "\n",
    "\n",
    "#     fitness = fitnessZNCC(x_default)\n",
    "    \n",
    "# #     if best_fitness > fitness:\n",
    "# #         best_fitness = fitness\n",
    "# #         best_angle = angle\n",
    "\n",
    "# #         print(best_fitness, best_angle)"
   ]
  },
  {
   "cell_type": "code",
   "execution_count": null,
   "id": "2434b4f2-dd92-49d4-9568-1462cc26c659",
   "metadata": {},
   "outputs": [],
   "source": [
    "# plt.figure()\n",
    "# plt.title(\"Evolution of the fitness value of the best individual\")\n",
    "# plt.ylabel(\"ZNCC (in %)\")\n",
    "# plt.xlabel(\"Number of evaluations\")\n",
    "# plt.plot(np.array(fitness_set)[:, 0], 100.0 / np.array(fitness_set)[:, 1])\n",
    "# plt.show()"
   ]
  },
  {
   "cell_type": "code",
   "execution_count": null,
   "id": "70e19bad-235b-40a4-8833-0d759ebfc571",
   "metadata": {
    "tags": []
   },
   "outputs": [],
   "source": [
    "figsize = (15, 21);\n",
    "displayResult(x_default, figsize=figsize, fname=None, crop=True);"
   ]
  },
  {
   "cell_type": "markdown",
   "id": "4ab4fb3a-f9ef-4d85-80f6-3913a4db5215",
   "metadata": {},
   "source": [
    "## 3. Roughly align the 3D object\n",
    "\n",
    "4 unknowns are optimised. We aim to align the object.\n",
    "\n",
    "### 3.1 Run the optimisation"
   ]
  },
  {
   "cell_type": "code",
   "execution_count": null,
   "id": "53108293-9151-47bd-abb7-5f04151b3618",
   "metadata": {},
   "outputs": [],
   "source": [
    "def fitnessZNCC(x):\n",
    "    global ref_image, best_fitness, fitness_set, counter, plot_directory\n",
    "\n",
    "    test_image = getXrayImage(x)\n",
    "\n",
    "    fitness_value = 0.0\n",
    "\n",
    "    for ref, test in zip(ref_image, test_image):\n",
    "        zncc = compareZNCC(ref, test)\n",
    "        \n",
    "        # Penalise negative values\n",
    "        if zncc < 0.0:\n",
    "            zncc = 1e-6\n",
    "            \n",
    "        # Turn it into a minimisation\n",
    "        fitness_value += 1.0 / zncc\n",
    "\n",
    "    fitness_value /= ref_image.shape[0]\n",
    "\n",
    "    if best_fitness > fitness_value:\n",
    "        fitness_set.append([counter, fitness_value])\n",
    "        best_fitness = fitness_value\n",
    "        displayResult(x, figsize, crop=True)\n",
    "        plt.savefig(plot_directory + \"/plot_\" + str(counter).zfill(4) + \".png\", dpi=DPI)\n",
    "        plt.close()\n",
    "    counter += 1\n",
    "\n",
    "    return fitness_value"
   ]
  },
  {
   "cell_type": "code",
   "execution_count": null,
   "id": "431e359f-9701-4a1c-85a4-cdf429ab8db3",
   "metadata": {},
   "outputs": [],
   "source": [
    "opts = cma.CMAOptions()\n",
    "opts.set('tolfun', 1e-5);\n",
    "opts['tolx'] = 1e-5;\n",
    "opts['bounds'] = [4*[0.0], 4*[1.0]];\n",
    "\n",
    "bounds = np.array([[-5, -5, -5, -20], [5, 5, 5, 20]]);\n",
    "\n",
    "x_fname       = os.path.join(registration_dir, \"x_best1.dat\")\n",
    "fitness_fname = os.path.join(registration_dir, \"fitness_set1.npz\")\n",
    "plot_directory = os.path.join(registration_dir, \"plot1\")\n",
    "\n",
    "if not os.path.exists(x_fname) or not os.path.exists(fitness_fname):\n",
    "    \n",
    "    if os.path.isdir(plot_directory):\n",
    "        shutil.rmtree(plot_directory)\n",
    "\n",
    "    if not os.path.exists(plot_directory):\n",
    "        os.mkdir(plot_directory)    \n",
    "\n",
    "    best_fitness = sys.float_info.max\n",
    "    fitness_set = []\n",
    "    counter = 1\n",
    "\n",
    "    start_time = time.time();\n",
    "    es = cma.CMAEvolutionStrategy(x_default, 0.3, opts);\n",
    "    es.optimize(fitnessZNCC);\n",
    "    elapsed_time = time.time() - start_time\n",
    "\n",
    "    x_best1 = es.result.xbest\n",
    "    np.savetxt(x_fname, es.result.xbest)\n",
    "\n",
    "    fitness_set = np.array(fitness_set)\n",
    "    np.savez(fitness_fname, fitness_set)\n",
    "\n",
    "    \n",
    "else:\n",
    "    x_best1 = np.loadtxt(x_fname)\n",
    "    data = np.load(fitness_fname)\n",
    "    lst = data.files\n",
    "    fitness_set = data[lst[0]]\n",
    "\n",
    "x_current = x_best1\n",
    "current_actual_values = bounds[0] + x_current * (bounds[1] - bounds[0]);"
   ]
  },
  {
   "cell_type": "code",
   "execution_count": null,
   "id": "c595ce09-b4e5-4b63-ad4e-6f59679a7ad0",
   "metadata": {},
   "outputs": [],
   "source": [
    "# Show the parameters after the optimisation\n",
    "print(x_current)"
   ]
  },
  {
   "cell_type": "markdown",
   "id": "cb3cb53a-26a4-451d-aaae-89b56af9b6e7",
   "metadata": {},
   "source": [
    "### 3.2 Show the evolution of the objective function"
   ]
  },
  {
   "cell_type": "code",
   "execution_count": null,
   "id": "1aea1150-7197-4ee6-baf6-54d1a5931743",
   "metadata": {},
   "outputs": [],
   "source": [
    "plt.figure()\n",
    "plt.title(\"Evolution of the fitness value of the best individual\")\n",
    "plt.ylabel(\"ZNCC (in %)\")\n",
    "plt.xlabel(\"Number of evaluations\")\n",
    "plt.plot(fitness_set[:, 0], 100.0 / fitness_set[:, 1])\n",
    "plt.show()"
   ]
  },
  {
   "cell_type": "markdown",
   "id": "eb1f976e-3c10-4114-acc7-31a7ef8baaeb",
   "metadata": {},
   "source": [
    "### 3.3 Compare the simulated image with the experimental images after registration\n",
    "\n",
    "We can also compare the ZNCC, MAE, RMSE and SSIM before and after optimisation.\n",
    "\n",
    "| Metrics | Before | After |\n",
    "|-|--------|-------|\n",
    "| ZNCC | 88.09% | 98.15% |\n",
    "| MAE | 22.24 | 10.20 |\n",
    "| RMSE | 36.75 | 15.51 |\n",
    "| SSIM | 0.64 | 0.83 |"
   ]
  },
  {
   "cell_type": "code",
   "execution_count": null,
   "id": "111b5f2c-3b10-460c-bc70-0a9b545ff8db",
   "metadata": {},
   "outputs": [],
   "source": [
    "displayResult(x_current, figsize=figsize, fname=None, crop=True)"
   ]
  },
  {
   "cell_type": "markdown",
   "id": "f2e2818f-e844-48c5-aac1-15cdc022019f",
   "metadata": {},
   "source": [
    "## 4. More accurate alignment\n",
    "\n",
    "6 unknowns are optimised. We aim to align\n",
    "\n",
    "1. the object on the turntable (3 unknown), and\n",
    "2. the centre of the turntable.\n",
    "\n",
    "### 4.1 Reduce the downsampling rate and increase the number of angles used\n",
    "\n",
    "It will take longer but the registration will be more accurate."
   ]
  },
  {
   "cell_type": "code",
   "execution_count": null,
   "id": "e32ab368-afde-4de8-bc82-bf2a9cebab46",
   "metadata": {},
   "outputs": [],
   "source": [
    "downscale = 4;\n",
    "figsize=(15,21);\n",
    "\n",
    "# Update the detector resolution\n",
    "gvxr.setDetectorNumberOfPixels(round(geometry.config.panel.num_pixels[0] / downscale), round(geometry.config.panel.num_pixels[1] / downscale));\n",
    "gvxr.setDetectorPixelSize(geometry.config.panel.pixel_size[0] * downscale, geometry.config.panel.pixel_size[1] * downscale, \"mm\");\n",
    "\n",
    "# Get the experimental images\n",
    "ref_image, indices = getReference(experimental_img_paths, 5, downscale);\n",
    "\n",
    "\n",
    "selected_source_position_set = [];\n",
    "selected_detector_position_set = [];\n",
    "selected_detector_direction_x_set = [];\n",
    "selected_detector_direction_y_set = [];\n",
    "\n",
    "for i in indices:\n",
    "    selected_source_position_set.append(source_position_set[i]);\n",
    "    selected_detector_position_set.append(detector_position_set[i]);\n",
    "    selected_detector_direction_x_set.append(detector_direction_x_set[i]);\n",
    "    selected_detector_direction_y_set.append(detector_direction_y_set[i]);"
   ]
  },
  {
   "cell_type": "markdown",
   "id": "999df3a3-5e88-44c5-b074-bae0fc630163",
   "metadata": {},
   "source": [
    "### 4.2 Compare the simulated image with the experimental images before the new registration"
   ]
  },
  {
   "cell_type": "code",
   "execution_count": null,
   "id": "435055ee-ab76-488a-9210-8a3740b4c2eb",
   "metadata": {},
   "outputs": [],
   "source": [
    "displayResult(x_current, figsize=figsize, fname=None, crop=True);"
   ]
  },
  {
   "cell_type": "code",
   "execution_count": null,
   "id": "0844a2cf-27e0-4bbf-ac30-963ea4d9f4a1",
   "metadata": {},
   "outputs": [],
   "source": [
    "opts = cma.CMAOptions()\n",
    "opts.set('tolfun', 1e-5);\n",
    "opts['tolx'] = 1e-5;\n",
    "\n",
    "x_default = np.array(6*[0.5])\n",
    "\n",
    "bounds = [np.append(current_actual_values - 2, 2*[-2]), np.append(current_actual_values + 2, 2*[2])]\n",
    "\n",
    "x_fname       = os.path.join(registration_dir, \"x_best2.dat\")\n",
    "fitness_fname = os.path.join(registration_dir, \"fitness_set2.npz\")\n",
    "plot_directory = os.path.join(registration_dir, \"plot2\")\n",
    "\n",
    "if not os.path.exists(x_fname) or not os.path.exists(fitness_fname):\n",
    "    \n",
    "    if os.path.isdir(plot_directory):\n",
    "        shutil.rmtree(plot_directory)\n",
    "\n",
    "    if not os.path.exists(plot_directory):\n",
    "        os.mkdir(plot_directory)    \n",
    "\n",
    "    best_fitness = sys.float_info.max\n",
    "    fitness_set = []\n",
    "    counter = 1\n",
    "\n",
    "    start_time = time.time();\n",
    "    es = cma.CMAEvolutionStrategy(x_default, 0.2, opts);\n",
    "    es.optimize(fitnessZNCC);\n",
    "    elapsed_time = time.time() - start_time\n",
    "\n",
    "    x_best2 = es.result.xbest\n",
    "    np.savetxt(x_fname, es.result.xbest)\n",
    "\n",
    "    fitness_set = np.array(fitness_set)\n",
    "    np.savez(fitness_fname, fitness_set)\n",
    "\n",
    "    \n",
    "else:\n",
    "    x_best2 = np.loadtxt(x_fname)\n",
    "    data = np.load(fitness_fname)\n",
    "    lst = data.files\n",
    "    fitness_set = data[lst[0]]\n",
    "\n",
    "x_current = x_best2\n",
    "previous_actual_values = np.copy(current_actual_values);\n",
    "current_actual_values = bounds[0] + x_current * (bounds[1] - bounds[0]);"
   ]
  },
  {
   "cell_type": "code",
   "execution_count": null,
   "id": "296e20b6-303b-4859-a661-e28a8e24428c",
   "metadata": {},
   "outputs": [],
   "source": [
    "print(x_best1)\n",
    "print(x_current)"
   ]
  },
  {
   "cell_type": "code",
   "execution_count": null,
   "id": "e720ff33-ca24-4a73-ac5e-26a69ba69430",
   "metadata": {},
   "outputs": [],
   "source": [
    "print(previous_actual_values)\n",
    "print(current_actual_values)"
   ]
  },
  {
   "cell_type": "markdown",
   "id": "e62d475a-77fc-4d5e-aefd-2c6e5f6d8683",
   "metadata": {},
   "source": [
    "### 4.4 Show the evolution of the objective function"
   ]
  },
  {
   "cell_type": "code",
   "execution_count": null,
   "id": "c134c51d-cd0d-4bdc-89e2-8b800570f0f7",
   "metadata": {},
   "outputs": [],
   "source": [
    "plt.figure()\n",
    "plt.title(\"Evolution of the fitness value of the best individual\")\n",
    "plt.ylabel(\"ZNCC (in %)\")\n",
    "plt.xlabel(\"Number of evaluations\")\n",
    "plt.plot(fitness_set[:, 0], 100.0 / fitness_set[:, 1])\n",
    "plt.show()"
   ]
  },
  {
   "cell_type": "markdown",
   "id": "dc8cf376-54d2-4436-8c8e-0df07e546cb5",
   "metadata": {},
   "source": [
    "### 4.5 Compare the simulated image with the experimental images after registration\n",
    "\n",
    "Again, we can compare the ZNCC, MAE, RMSE and SSIM before and after optimisation.\n",
    "\n",
    "| Metrics | Before | After |\n",
    "|-|--------|-------|\n",
    "| ZNCC | 98.15% | 98.14% |\n",
    "| MAE | 10.19 | 10.21 |\n",
    "| RMSE | 15.49 | 15.53 |\n",
    "| SSIM | 0.84 | 0.84 |"
   ]
  },
  {
   "cell_type": "code",
   "execution_count": null,
   "id": "a9f3af92-3813-4928-bf6d-15f3129148b7",
   "metadata": {},
   "outputs": [],
   "source": [
    "displayResult(x_current, figsize=figsize, fname=None, crop=True)"
   ]
  },
  {
   "cell_type": "markdown",
   "id": "043d1321-42b0-4f3f-8568-111ef0dc667a",
   "metadata": {},
   "source": [
    "## 5. Repeat the previous optimisation\n",
    "\n",
    "### 5.1 Use full resolution\n",
    "\n",
    "It will take much longer but the registration will be more accurate."
   ]
  },
  {
   "cell_type": "code",
   "execution_count": null,
   "id": "3eef4cb3-30c9-4fa7-9481-b280b12a75a3",
   "metadata": {},
   "outputs": [],
   "source": [
    "downscale = 1;\n",
    "figsize=(15,21);\n",
    "\n",
    "# Update the detector resolution\n",
    "gvxr.setDetectorNumberOfPixels(round(geometry.config.panel.num_pixels[0] / downscale), round(geometry.config.panel.num_pixels[1] / downscale));\n",
    "gvxr.setDetectorPixelSize(geometry.config.panel.pixel_size[0] * downscale, geometry.config.panel.pixel_size[1] * downscale, \"mm\");\n",
    "\n",
    "# Get the experimental images\n",
    "ref_image, indices = getReference(experimental_img_paths, 7, downscale);\n",
    "\n",
    "\n",
    "selected_source_position_set = [];\n",
    "selected_detector_position_set = [];\n",
    "selected_detector_direction_x_set = [];\n",
    "selected_detector_direction_y_set = [];\n",
    "\n",
    "for i in indices:\n",
    "    selected_source_position_set.append(source_position_set[i]);\n",
    "    selected_detector_position_set.append(detector_position_set[i]);\n",
    "    selected_detector_direction_x_set.append(detector_direction_x_set[i]);\n",
    "    selected_detector_direction_y_set.append(detector_direction_y_set[i]);"
   ]
  },
  {
   "cell_type": "markdown",
   "id": "78b825c1-7794-4316-8412-d29d5ebca2cc",
   "metadata": {},
   "source": [
    "### 5.2 Compare the simulated image with the experimental images before the new registration"
   ]
  },
  {
   "cell_type": "code",
   "execution_count": null,
   "id": "8ba86529-877e-4564-9448-1aced967bd78",
   "metadata": {},
   "outputs": [],
   "source": [
    "displayResult(x_current, figsize=figsize, fname=None, crop=True);"
   ]
  },
  {
   "cell_type": "markdown",
   "id": "0ead541c-f8ff-450c-adc0-dc195690851a",
   "metadata": {},
   "source": [
    "### 5.3 Perform the optimisation"
   ]
  },
  {
   "cell_type": "code",
   "execution_count": null,
   "id": "46ae8c41-d647-4493-8eaa-bd85b847f03d",
   "metadata": {},
   "outputs": [],
   "source": [
    "opts = cma.CMAOptions()\n",
    "opts.set('tolfun', 1e-6);\n",
    "opts['tolx'] = 1e-6;\n",
    "\n",
    "bounds = [current_actual_values - 2, current_actual_values + 2]\n",
    "\n",
    "x_fname       = os.path.join(registration_dir, \"x_best3.dat\")\n",
    "fitness_fname = os.path.join(registration_dir, \"fitness_set3.npz\")\n",
    "plot_directory = os.path.join(registration_dir, \"plot3\")\n",
    "\n",
    "if not os.path.exists(x_fname) or not os.path.exists(fitness_fname):\n",
    "    \n",
    "    if os.path.isdir(plot_directory):\n",
    "        shutil.rmtree(plot_directory)\n",
    "\n",
    "    if not os.path.exists(plot_directory):\n",
    "        os.mkdir(plot_directory)    \n",
    "\n",
    "    best_fitness = sys.float_info.max\n",
    "    fitness_set = []\n",
    "    counter = 1\n",
    "\n",
    "    start_time = time.time();\n",
    "    es = cma.CMAEvolutionStrategy(x_current, 1 / 10, opts);\n",
    "    es.optimize(fitnessZNCC);\n",
    "    elapsed_time = time.time() - start_time\n",
    "\n",
    "    x_best3 = es.result.xbest\n",
    "    np.savetxt(x_fname, es.result.xbest)\n",
    "\n",
    "    fitness_set = np.array(fitness_set)\n",
    "    np.savez(fitness_fname, fitness_set)\n",
    "    \n",
    "else:\n",
    "    x_best3 = np.loadtxt(x_fname)\n",
    "    data = np.load(fitness_fname)\n",
    "    lst = data.files\n",
    "    fitness_set = data[lst[0]]\n",
    "\n",
    "x_current = x_best3\n",
    "previous_actual_values = np.copy(current_actual_values);\n",
    "current_actual_values = bounds[0] + x_current * (bounds[1] - bounds[0]);"
   ]
  },
  {
   "cell_type": "code",
   "execution_count": null,
   "id": "23cd3e9d-22eb-4ab4-b04c-2828b4636d98",
   "metadata": {},
   "outputs": [],
   "source": [
    "print(\"Previous values:\", x_best2)\n",
    "print(\"New values:     \", x_best3)"
   ]
  },
  {
   "cell_type": "code",
   "execution_count": null,
   "id": "63519cf5-bad2-4796-8075-e02661fef91d",
   "metadata": {},
   "outputs": [],
   "source": [
    "print(previous_actual_values)\n",
    "print(current_actual_values)"
   ]
  },
  {
   "cell_type": "markdown",
   "id": "1a34e5a0-5d66-4bc8-9a55-2b616ad6bcb8",
   "metadata": {},
   "source": [
    "### 5.4 Show the evolution of the objective function"
   ]
  },
  {
   "cell_type": "code",
   "execution_count": null,
   "id": "357400c3-f119-48c2-8efe-fb8f65e2f377",
   "metadata": {},
   "outputs": [],
   "source": [
    "plt.figure()\n",
    "plt.title(\"Evolution of the fitness value of the best individual\")\n",
    "plt.ylabel(\"ZNCC (in %)\")\n",
    "plt.xlabel(\"Number of evaluations\")\n",
    "plt.plot(fitness_set[:, 0], 100.0 / fitness_set[:, 1])\n",
    "plt.show()"
   ]
  },
  {
   "cell_type": "markdown",
   "id": "059377fb-29e9-427f-a8c9-2378f181c668",
   "metadata": {},
   "source": [
    "### 5.5 Compare the simulated image with the experimental images after registration\n",
    "\n",
    "Again, we can compare the ZNCC, MAE, RMSE and SSIM before and after optimisation.\n",
    "\n",
    "| Metrics | Before | After |\n",
    "|-|--------|-------|\n",
    "| ZNCC | 98.08% | 98.07% |\n",
    "| MAE | 10.48 | 10.50 |\n",
    "| RMSE | 15.78 | 15.81 |\n",
    "| SSIM | 0.91 | 0.91 |"
   ]
  },
  {
   "cell_type": "code",
   "execution_count": null,
   "id": "0d1bb3d7-3738-4496-9775-86b666c86c2d",
   "metadata": {},
   "outputs": [],
   "source": [
    "displayResult(x_current, figsize=figsize, fname=None, crop=True)"
   ]
  },
  {
   "cell_type": "markdown",
   "id": "dd411748-8f10-402a-b8b5-23387bc290aa",
   "metadata": {},
   "source": [
    "## 6. Realistic parameters\n",
    "\n",
    "### 6.1 Use full resolution"
   ]
  },
  {
   "cell_type": "code",
   "execution_count": null,
   "id": "40611392-78e1-4d3c-99a3-d3fba436d47a",
   "metadata": {},
   "outputs": [],
   "source": [
    "downscale = 1;\n",
    "figsize=(15,21);\n",
    "\n",
    "# Update the detector resolution\n",
    "gvxr.setDetectorNumberOfPixels(round(geometry.config.panel.num_pixels[0] / downscale), round(geometry.config.panel.num_pixels[1] / downscale));\n",
    "gvxr.setDetectorPixelSize(geometry.config.panel.pixel_size[0] * downscale, geometry.config.panel.pixel_size[1] * downscale, \"mm\");\n",
    "\n",
    "# Get the experimental images\n",
    "ref_image, indices = getReference(experimental_img_paths, 1, downscale);\n",
    "\n",
    "\n",
    "selected_source_position_set = [];\n",
    "selected_detector_position_set = [];\n",
    "selected_detector_direction_x_set = [];\n",
    "selected_detector_direction_y_set = [];\n",
    "\n",
    "for i in indices:\n",
    "    selected_source_position_set.append(source_position_set[i]);\n",
    "    selected_detector_position_set.append(detector_position_set[i]);\n",
    "    selected_detector_direction_x_set.append(detector_direction_x_set[i]);\n",
    "    selected_detector_direction_y_set.append(detector_direction_y_set[i]);"
   ]
  },
  {
   "cell_type": "markdown",
   "id": "9a40c24e-6651-4d55-821e-ccf1adcf7226",
   "metadata": {},
   "source": [
    "### 6.2 Use a realistic beam spectrum\n",
    "\n",
    "We favour Xpecgen as it provides a smaller number of energy bins."
   ]
  },
  {
   "cell_type": "code",
   "execution_count": null,
   "id": "4eecfdb9-b68f-4cbc-826c-00c062170d16",
   "metadata": {},
   "outputs": [],
   "source": [
    "if has_xpecgen:\n",
    "    loadSpectrumXpecgen(160, filters=[[\"Cu\", 2]], th_in_deg=12)\n",
    "elif has_spekpy:\n",
    "    loadSpectrumSpekpy(160, filters=[[\"Cu\", 2]], th_in_deg=12)"
   ]
  },
  {
   "cell_type": "code",
   "execution_count": null,
   "id": "18d3ce05-3097-4b55-94c0-3539fcd9d65c",
   "metadata": {},
   "outputs": [],
   "source": [
    "def plotSpectrum(k, f, fname=None, xlim=[0,200], figsize=(20,10)):\n",
    "\n",
    "    plt.figure(figsize=figsize)\n",
    "\n",
    "    plt.bar(k, f / f.sum()) # Plot the spectrum\n",
    "    plt.xlabel('Energy in keV')\n",
    "    plt.ylabel('Probability distribution of photons per keV')\n",
    "    plt.title('Photon energy distribution')\n",
    "\n",
    "    plt.xlim(xlim)\n",
    "\n",
    "    plt.tight_layout()\n",
    "\n",
    "    if fname is not None:\n",
    "        plt.savefig(fname + '.pdf', bbox_inches = 'tight', dpi=DPI)\n",
    "        plt.savefig(fname + '.png', bbox_inches = 'tight', dpi=DPI)\n"
   ]
  },
  {
   "cell_type": "code",
   "execution_count": null,
   "id": "4191ebd4-5fb2-430e-ba67-09413560c872",
   "metadata": {},
   "outputs": [],
   "source": [
    "energy_bins = np.array(gvxr.getEnergyBins(\"keV\"))\n",
    "photon_counts = np.array(gvxr.getPhotonCountEnergyBins())\n",
    "\n",
    "plotSpectrum(energy_bins,\n",
    "             photon_counts,\n",
    "             fname=None,\n",
    "             xlim=[0,200],\n",
    "             figsize=(20,10))"
   ]
  },
  {
   "cell_type": "markdown",
   "id": "74681dfb-0c96-4c38-a138-3b7ed4162567",
   "metadata": {},
   "source": [
    "### 6.3 Add the scintillator to the detector"
   ]
  },
  {
   "cell_type": "code",
   "execution_count": null,
   "id": "dc79664e-96c8-47a0-a227-75a1674c1efc",
   "metadata": {},
   "outputs": [],
   "source": [
    "gvxr.setScintillator(\"Gd2O2S DRZ-Plus\", 210, \"um\")\n",
    "# Gadox (Gd2O2S) DRZ+ : scintillator of 100mg/cm2 and 210um thickness which gives an apparent density of 4.76 g/cm3"
   ]
  },
  {
   "cell_type": "code",
   "execution_count": null,
   "id": "ac22f6aa-1348-40cf-bbaa-dd02d7e736e6",
   "metadata": {},
   "outputs": [],
   "source": [
    "detector_response = np.array(gvxr.getEnergyResponse(\"keV\"))\n",
    "plt.figure(figsize= (20,10))\n",
    "# plt.title(\"Detector response\")\n",
    "plt.plot(detector_response[:,0], detector_response[:,1])\n",
    "plt.xlabel('Incident energy: E (in keV)')\n",
    "plt.ylabel('Detector energy response: $\\\\delta$(E) (in keV)')\n",
    "\n",
    "plt.tight_layout()"
   ]
  },
  {
   "cell_type": "markdown",
   "id": "0a7ae706-92ad-4816-ae3a-0db6ff647e3a",
   "metadata": {},
   "source": [
    "### 6.4 Compare the simulated image with the experimental images"
   ]
  },
  {
   "cell_type": "code",
   "execution_count": null,
   "id": "4f99aff2-297d-4cb6-bb53-3b1aa96b0feb",
   "metadata": {},
   "outputs": [],
   "source": [
    "displayResult(x_current, figsize=figsize, fname=os.path.join(registration_dir, \"registration_results\"), crop=True);"
   ]
  },
  {
   "cell_type": "code",
   "execution_count": null,
   "id": "9d6d2c77-ce5a-4299-96e1-bbe7c3a7f929",
   "metadata": {},
   "outputs": [],
   "source": [
    "# Sample position on turntable\n",
    "while len(current_actual_values) < 6:\n",
    "    current_actual_values = np.append(current_actual_values, 0)\n",
    "\n",
    "    \n",
    "    \n",
    "    \n",
    "    \n",
    "# gvxr.translateNode(\"copper_wires\",\n",
    "#                     -bbox_in_mm[0] - (bbox_in_mm[3] - bbox_in_mm[0]) / 2.0,\n",
    "#                     -bbox_in_mm[1] - (bbox_in_mm[4] - bbox_in_mm[1]) / 2.0,\n",
    "#                     -bbox_in_mm[2] - (bbox_in_mm[5] - bbox_in_mm[2]) / 2.0,\n",
    "#                     \"mm\"\n",
    "#                     );\n",
    "\n",
    "# gvxr.rotateNode(\"copper_wires\", 300, 0, 0);\n",
    "\n",
    "# gvxr.translateNode(\"copper_wires\",\n",
    "#                    volume_centre_position[0],\n",
    "#                    volume_centre_position[1],\n",
    "#                    volume_centre_position[2],\n",
    "#                    \"mm\");\n",
    "\n",
    "gvxr.translateNode(\"cable_sleeve\", current_actual_values[0], current_actual_values[1], current_actual_values[2], \"mm\")\n",
    "gvxr.rotateNode(\"cable_sleeve\", current_actual_values[3], current_actual_values[4], current_actual_values[5])\n",
    "\n",
    "gvxr.applyCurrentLocalTransformation(\"cable_sleeve\")\n",
    "\n",
    "\n",
    "\n",
    "for label in [\"cable_sleeve\", \"copper_wires\"]:\n",
    "    # gvxr.translateNode(label, current_actual_values[0], current_actual_values[1], current_actual_values[2], \"mm\")\n",
    "    # gvxr.rotateNode(label, current_actual_values[3], current_actual_values[4], current_actual_values[5])\n",
    "\n",
    "    # gvxr.applyCurrentLocalTransformation(label)\n",
    "\n",
    "    mesh_fname = os.path.join(registration_dir, label + \"-transformed.stl\")\n",
    "    gvxr.saveSTLfile(label, mesh_fname);\n",
    "    print(\"New mesh saved in:\", mesh_fname);"
   ]
  },
  {
   "cell_type": "code",
   "execution_count": null,
   "id": "a5af80fd-3b5f-4657-84aa-b25315c0d620",
   "metadata": {},
   "outputs": [],
   "source": [
    "figsize=(12,5)\n",
    "displayResult([1, 1], figsize=figsize, crop=True);"
   ]
  },
  {
   "cell_type": "markdown",
   "id": "cc2333f0-23da-4b37-afe3-a365ad730335",
   "metadata": {},
   "source": [
    "# Optimise the densities"
   ]
  },
  {
   "cell_type": "code",
   "execution_count": null,
   "id": "b4b3992c-ed5b-4f73-be79-ca67c58b1e25",
   "metadata": {},
   "outputs": [],
   "source": [
    "def fitnessRMSE(x):\n",
    "    global ref_image, best_fitness, fitness_set, counter, plot_directory\n",
    "\n",
    "    test_image = getXrayImage(x)\n",
    "\n",
    "    fitness_value = 0.0\n",
    "\n",
    "    for ref, test in zip(ref_image, test_image):\n",
    "        fitness_value += compareRMSE(ref, test)\n",
    "\n",
    "    fitness_value /= ref_image.shape[0]\n",
    "\n",
    "    if best_fitness > fitness_value:\n",
    "        fitness_set.append([counter, fitness_value])\n",
    "        best_fitness = fitness_value\n",
    "        displayResult(x, figsize, crop=True)\n",
    "        plt.savefig(plot_directory + \"/plot_\" + str(counter).zfill(4) + \".png\", dpi=DPI)\n",
    "        plt.close()\n",
    "\n",
    "    counter += 1\n",
    "\n",
    "    return fitness_value"
   ]
  },
  {
   "cell_type": "code",
   "execution_count": null,
   "id": "c9bf5485-99c7-4fb6-a5f1-baf7ba27aac5",
   "metadata": {},
   "outputs": [],
   "source": [
    "opts = cma.CMAOptions()\n",
    "opts.set('tolfun', 1e-6);\n",
    "opts['tolx'] = 1e-6;\n",
    "opts['bounds'] = [2*[0.0], 2*[2.0]];\n",
    "\n",
    "x_fname       = os.path.join(registration_dir, \"x_best4.dat\")\n",
    "fitness_fname = os.path.join(registration_dir, \"fitness_set4.npz\")\n",
    "plot_directory = os.path.join(registration_dir, \"plot4\")\n",
    "\n",
    "if not os.path.exists(x_fname) or not os.path.exists(fitness_fname):\n",
    "    \n",
    "    if os.path.isdir(plot_directory):\n",
    "        shutil.rmtree(plot_directory)\n",
    "\n",
    "    if not os.path.exists(plot_directory):\n",
    "        os.mkdir(plot_directory)    \n",
    "\n",
    "    best_fitness = sys.float_info.max\n",
    "    fitness_set = []\n",
    "    counter = 1\n",
    "\n",
    "    start_time = time.time();\n",
    "    es = cma.CMAEvolutionStrategy([1, 1], 1 / 10, opts);\n",
    "    es.optimize(fitnessRMSE);\n",
    "    elapsed_time = time.time() - start_time\n",
    "\n",
    "    x_best4 = es.result.xbest\n",
    "    np.savetxt(x_fname, es.result.xbest)\n",
    "\n",
    "    fitness_set = np.array(fitness_set)\n",
    "    np.savez(fitness_fname, fitness_set)\n",
    "    \n",
    "else:\n",
    "    x_best4 = np.loadtxt(x_fname)\n",
    "    data = np.load(fitness_fname)\n",
    "    lst = data.files\n",
    "    fitness_set = data[lst[0]]\n",
    "\n",
    "gvxr.setDensity(\"cable_sleeve\", default_cable_insulation_density * x_best4[0], \"g/cm3\")\n",
    "gvxr.setDensity(\"copper_wires\", default_copper_density * x_best4[1], \"g/cm3\")"
   ]
  },
  {
   "cell_type": "code",
   "execution_count": null,
   "id": "8854dd02-306e-4450-8eb9-d66572c20570",
   "metadata": {},
   "outputs": [],
   "source": [
    "test_default_densities = getXrayImage([1, 1])\n",
    "test_optimised_densities = getXrayImage(x_best4)\n",
    "\n",
    "fig, axs = plt.subplots(len(ref_image), 1, figsize=(12,10), squeeze=False)\n",
    "plt.suptitle(\"Intensity profiles through the middle row\")\n",
    "\n",
    "row_id = test_default_densities.shape[1] // 2\n",
    "row_size = test_default_densities.shape[2]\n",
    "\n",
    "for index in range(len(ref_image)):\n",
    "    axs[index][0].plot(ref_image[index][row_id], label=\"Experimental\")\n",
    "    axs[index][0].plot(test_default_densities[index][row_id], label=\"Default densities\")\n",
    "    axs[index][0].plot(test_optimised_densities[index][row_id], label=\"Optimised densities\")\n",
    "    # axs[index][0].set_xlim((400, row_size-500))\n",
    "    axs[index][0].set_xlabel(\"Pixel position\")\n",
    "    axs[index][0].set_ylabel(\"Pixel intensity\")\n",
    "    axs[index][0].legend()\n",
    "    \n",
    "plt.savefig(os.path.join(registration_dir, \"registration_results-profiles.pdf\"), bbox_inches = 'tight', dpi=DPI)\n",
    "plt.savefig(os.path.join(registration_dir, \"registration_results-profiles.png\"), bbox_inches = 'tight', dpi=DPI)"
   ]
  },
  {
   "cell_type": "markdown",
   "id": "bf72ee08-243b-485f-9beb-5b5aa899bf63",
   "metadata": {},
   "source": [
    "### 5.4 Show the evolution of the objective function"
   ]
  },
  {
   "cell_type": "code",
   "execution_count": null,
   "id": "94dfab50-6c97-4986-9e97-0d1f3295b06a",
   "metadata": {},
   "outputs": [],
   "source": [
    "plt.figure()\n",
    "plt.title(\"Evolution of the fitness value of the best individual\")\n",
    "plt.ylabel(\"RMSE\")\n",
    "plt.xlabel(\"Number of evaluations\")\n",
    "plt.plot(fitness_set[:, 0], fitness_set[:, 1])\n",
    "plt.show()"
   ]
  },
  {
   "cell_type": "markdown",
   "id": "76a9393e-7feb-4cde-8092-bdd71de1222c",
   "metadata": {},
   "source": [
    "## 7. Perform a simulation of the CT scan acquisition\n",
    "\n",
    "### 7.1 Apply the results of the optimisation\n",
    "\n",
    "We apply the geometrical transformations on the 3D surface. We also use the optimised material composition."
   ]
  },
  {
   "cell_type": "code",
   "execution_count": null,
   "id": "a7298162-66d0-4e93-8d73-33d3a85d70f2",
   "metadata": {},
   "outputs": [],
   "source": [
    "# gvxr.setMixture(sample_label, elements, default_weights)\n",
    "# gvxr.setDensity(sample_label, default_density, \"g/cm3\")\n",
    "\n",
    "# # Sample position on turntable\n",
    "# gvxr.translateNode(sample_label, x_current[0], x_current[1], x_current[2], \"mm\")\n",
    "\n",
    "# gvxr.rotateNode(sample_label, x_current[3], 0, 1, 0)\n",
    "# gvxr.rotateNode(sample_label, x_current[4], 1, 0, 0)\n",
    "# gvxr.rotateNode(sample_label, x_current[5], 0, 0, 1)\n",
    "\n",
    "# gvxr.applyCurrentLocalTransformation(sample_label)\n",
    "\n",
    "# mesh_fname = os.path.join(mesh_dir, sample_label + \"-transformed.stl\")\n",
    "# gvxr.saveSTLfile(sample_label, mesh_fname);\n",
    "# print(\"New mesh saved in:\", mesh_fname);"
   ]
  },
  {
   "cell_type": "markdown",
   "id": "564c6eeb-d2e4-4946-b881-b0aeb7a6f85d",
   "metadata": {},
   "source": [
    "### 7.2 Perform the CT scan acquisition"
   ]
  },
  {
   "cell_type": "code",
   "execution_count": null,
   "id": "5c7382ec-b59f-45ad-abdc-4d5a35bea5ad",
   "metadata": {},
   "outputs": [],
   "source": [
    "JSON_fname = os.path.join(registration_dir, \"CT-acquisition-real_part_model.json\")\n",
    "proj_path = os.path.join(registration_dir, \"simulated_projections-real_part_model\")\n",
    "\n",
    "simulated_projections = False;\n",
    "if  not os.path.exists(JSON_fname) or not os.path.exists(proj_path):\n",
    "    \n",
    "    if not os.path.exists(proj_path):\n",
    "        os.mkdir(proj_path);\n",
    "        \n",
    "    total_incident_energy = gvxr.getTotalEnergyWithDetectorResponse()\n",
    "\n",
    "    for i, (source_position, detector_position, detector_direction_x, detector_direction_y) in enumerate(zip(source_position_set, detector_position_set, detector_direction_x_set, detector_direction_y_set)):\n",
    "\n",
    "        gvxr.setSourcePosition(source_position[0], source_position[1], source_position[2], \"mm\");\n",
    "\n",
    "        gvxr.autoAlignDetector(False);\n",
    "        gvxr.setDetectorPosition(detector_position[0], detector_position[1], detector_position[2], \"mm\");\n",
    "        gvxr.setDetectorUpVector(detector_direction_y[0], detector_direction_y[1], detector_direction_y[2]);\n",
    "        gvxr.setDetectorRightVector(detector_direction_x[0], detector_direction_x[1], detector_direction_x[2]);\n",
    "\n",
    "        # Compute an X-ray image\n",
    "        # We convert the array in a Numpy structure and store the data using single-precision floating-point numbers.\n",
    "        xray_image = np.array(gvxr.computeXRayImage(), dtype=np.single) / total_incident_energy\n",
    "        imwrite(os.path.join(proj_path, \"img_\" + str(i).zfill(5) + \".tif\"), xray_image, compression =\"zlib\");\n",
    "        \n",
    "    simulated_projections = True;"
   ]
  },
  {
   "cell_type": "markdown",
   "id": "89395566-197c-41d4-9af5-aef098875fe5",
   "metadata": {},
   "source": [
    "### 7.3 Save the corresponding JSON file"
   ]
  },
  {
   "cell_type": "code",
   "execution_count": null,
   "id": "2f0f64fa-4240-45d8-937f-0b22b641f72e",
   "metadata": {},
   "outputs": [],
   "source": [
    "if simulated_projections:\n",
    "    gvxr2json.saveJSON(JSON_fname)"
   ]
  },
  {
   "cell_type": "markdown",
   "id": "a4b5568b-16b9-4bc4-877c-87a969b6f76c",
   "metadata": {},
   "source": [
    "## 8. CT reconstruction with CIL"
   ]
  },
  {
   "cell_type": "code",
   "execution_count": null,
   "id": "792de4a8-0604-4af9-9c25-26478b2104ab",
   "metadata": {},
   "outputs": [],
   "source": [
    "# Import packages\n",
    "from cil.io import TIFFWriter\n",
    "from cil.processors import TransmissionAbsorptionConverter, Slicer\n",
    "# from cil.recon import FDK\n",
    "from cil.plugins.astra import FBP\n",
    "\n",
    "from cil.utilities.display import show2D, show_geometry\n",
    "from cil.utilities.jupyter import islicer\n",
    "\n",
    "from DTHEDataReader import *\n",
    "from gvxrPython3.JSON2gVXRDataReader import JSON2gVXRDataReader"
   ]
  },
  {
   "cell_type": "markdown",
   "id": "857eff8b-27f0-41dc-bf13-5d705c8a5d0e",
   "metadata": {},
   "source": [
    "### 8.1 Load the simulated projections"
   ]
  },
  {
   "cell_type": "code",
   "execution_count": null,
   "id": "21070771-4ac4-47f6-ac08-962e5e410f11",
   "metadata": {},
   "outputs": [],
   "source": [
    "# Define the path where TIFF files will be saved\n",
    "output_path = \"recons-real_part_model\";\n",
    "save_path = os.path.join(registration_dir, output_path);\n",
    "\n",
    "if not os.path.exists(save_path):\n",
    "\n",
    "    # Instanciate the reader\n",
    "    # reader = JSON2gVXRDataReader(file_name=JSON_fname);\n",
    "    reader = DTHEDataReader(directory_path=data_path,\n",
    "                            normalise=False,\n",
    "                            tiff_directory_path=proj_path);\n",
    "\n",
    "    # Read the data\n",
    "    data = reader.read();"
   ]
  },
  {
   "cell_type": "markdown",
   "id": "92430d4c-5fb2-4ee0-b327-6b52b27fedbb",
   "metadata": {},
   "source": [
    "### 8.2 Inspect the geometry"
   ]
  },
  {
   "cell_type": "markdown",
   "id": "75e7e116-7637-456a-a1bb-028a35e86b49",
   "metadata": {},
   "source": [
    "Checkout what the data looks like."
   ]
  },
  {
   "cell_type": "code",
   "execution_count": null,
   "id": "ea88b753-c84e-4eb5-9f4f-c9693050e857",
   "metadata": {},
   "outputs": [],
   "source": [
    "if not os.path.exists(save_path):\n",
    "    print(data);"
   ]
  },
  {
   "cell_type": "markdown",
   "id": "65483bba-38d7-4239-8b68-d9c4a2f49b62",
   "metadata": {},
   "source": [
    "Checkout what the acquisition geometry looks like."
   ]
  },
  {
   "cell_type": "code",
   "execution_count": null,
   "id": "6f99673f-4ab9-4898-b2bb-63a3332fd620",
   "metadata": {},
   "outputs": [],
   "source": [
    "if not os.path.exists(save_path):\n",
    "    print(data.geometry);"
   ]
  },
  {
   "cell_type": "markdown",
   "id": "f02ea012-d5fa-4d0d-8e9a-8ae8fc850765",
   "metadata": {},
   "source": [
    "CIL can even plot what the geometry looks like."
   ]
  },
  {
   "cell_type": "code",
   "execution_count": null,
   "id": "899b4cac-eb32-4e6a-b7a9-8fd07ba358eb",
   "metadata": {},
   "outputs": [],
   "source": [
    "# Plot and save the geometry\n",
    "fname = os.path.join(registration_dir, \"CT-acquisition-CAD_model-geometry.png\");\n",
    "# show_geometry(data.geometry).save(fname);"
   ]
  },
  {
   "cell_type": "markdown",
   "id": "eceb1c9d-3939-4e4b-b840-c8b7793c3000",
   "metadata": {},
   "source": [
    "### 8.3 Apply the minus log"
   ]
  },
  {
   "cell_type": "code",
   "execution_count": null,
   "id": "c764a473-7729-44a4-895e-b2d10d0fd5c5",
   "metadata": {},
   "outputs": [],
   "source": [
    "if not os.path.exists(save_path):\n",
    "    data_corr = TransmissionAbsorptionConverter(min_intensity=0.00001, white_level=data.max())(data);"
   ]
  },
  {
   "cell_type": "code",
   "execution_count": null,
   "id": "d26deb84-b862-4c5e-b206-acb26281d38f",
   "metadata": {},
   "outputs": [],
   "source": [
    "if not os.path.exists(save_path):\n",
    "    # Release memory\n",
    "    del data;"
   ]
  },
  {
   "cell_type": "markdown",
   "id": "47d6e5ea-6063-4eaa-9a2f-6c69e8d50460",
   "metadata": {},
   "source": [
    "Inspect the projections"
   ]
  },
  {
   "cell_type": "markdown",
   "id": "2c57de01-607a-47aa-8df5-474836b60015",
   "metadata": {},
   "source": [
    "### 8.4 Define a ROI to save resources\n",
    "\n",
    "The inspection performed above showed that there is a lot of air around the object. There is no need to waste resources and time reconstructing air."
   ]
  },
  {
   "cell_type": "code",
   "execution_count": null,
   "id": "cfcc6d2d-edd1-4733-82c9-35143ae37ef6",
   "metadata": {},
   "outputs": [],
   "source": [
    "scaling_factor = 1;\n",
    "roi_size = [800, 800, 2500];"
   ]
  },
  {
   "cell_type": "markdown",
   "id": "842531b3-ec64-4844-80e9-ec04dfb04a82",
   "metadata": {},
   "source": [
    "### 8.5 Reconstruct the CT volume with CIL"
   ]
  },
  {
   "cell_type": "code",
   "execution_count": null,
   "id": "cdcaf831-3555-4b98-b290-295000b0cc9b",
   "metadata": {},
   "outputs": [],
   "source": [
    "if not os.path.exists(save_path):\n",
    "    start = time.time();\n",
    "\n",
    "    # Prepare the data for Tigre\n",
    "    data_corr.reorder(order='astra');\n",
    "\n",
    "    # Reconstruct using FDK\n",
    "    ig = data_corr.geometry.get_ImageGeometry();\n",
    "\n",
    "    # Change the number of voxels in the reconstructed volume if a ROI is in use\n",
    "    if roi_size is not None:\n",
    "        ig.voxel_num_x = roi_size[0];\n",
    "        ig.voxel_num_y = roi_size[1];\n",
    "        ig.voxel_num_z = roi_size[2];\n",
    "\n",
    "    # Apply a scaling factor if binning is in use\n",
    "    if scaling_factor != 1:\n",
    "        ig.voxel_num_x = round(ig.voxel_num_x // scaling_factor);\n",
    "        ig.voxel_num_y = round(ig.voxel_num_y // scaling_factor);\n",
    "        ig.voxel_num_z = round(ig.voxel_num_z // scaling_factor);\n",
    "\n",
    "        ig.voxel_size_x *= scaling_factor;\n",
    "        ig.voxel_size_y *= scaling_factor;\n",
    "        ig.voxel_size_z *= scaling_factor;\n",
    "\n",
    "        ig.voxel_size_x = np.max([ig.voxel_size_x, ig.voxel_size_y, ig.voxel_size_z]);\n",
    "        ig.voxel_size_y = ig.voxel_size_z = ig.voxel_size_x;\n",
    "\n",
    "    # Show the reconstructed volume voxel size\n",
    "    print(\"Voxel size:\", ig.voxel_size_x, ig.voxel_size_y, ig.voxel_size_z);\n",
    "\n",
    "    # Instantiate the reconstruction algorithm\n",
    "    fdk = FBP(ig, data_corr.geometry)\n",
    "    fdk.set_input(data_corr)\n",
    "\n",
    "    # Perform the actual CT reconstruction\n",
    "    recons_FDK_cil = fdk.get_output();\n",
    "\n",
    "    stop = time.time();\n",
    "    # runtime, unit = getRuntime(start, stop);\n",
    "    print(\"Execution time:\", \"{0:0.2f}\".format(runtime), unit);"
   ]
  },
  {
   "cell_type": "code",
   "execution_count": null,
   "id": "f30b229f-8741-4677-bc62-fc1372dd5212",
   "metadata": {},
   "outputs": [],
   "source": [
    "if not os.path.exists(save_path):\n",
    "    # Release memory\n",
    "    del data_corr;"
   ]
  },
  {
   "cell_type": "markdown",
   "id": "572370df-1e36-44b2-886d-8feaab3e9f25",
   "metadata": {},
   "source": [
    "### 8.6 Save the reconstructed CT volume to disk for example as a stack of TIFFs"
   ]
  },
  {
   "cell_type": "code",
   "execution_count": null,
   "id": "1059ea8d-610c-4d54-b2d6-6c61f32f052e",
   "metadata": {},
   "outputs": [],
   "source": [
    "if not os.path.exists(save_path):\n",
    "    print(\"Print the CT data will be saved in:\", save_path);   \n",
    "    TIFFWriter(data=recons_FDK_cil, file_name=os.path.join(save_path, \"out\")).write();\n",
    "    \n",
    "    del recons_FDK_cil;"
   ]
  },
  {
   "cell_type": "markdown",
   "id": "b3c8f4ba-6d20-4897-9706-8ca770193806",
   "metadata": {},
   "source": [
    "## 9.Voxelisation of the 3D object in the same volume space as the CT scan"
   ]
  },
  {
   "cell_type": "markdown",
   "id": "fc3b1e0e-1001-47c6-8cd9-894a5cd2b5e5",
   "metadata": {},
   "source": [
    "### 9.1 Use a monochromatic beam\n",
    "\n",
    "Overwrite the beam spectrum as there is no need to use polychromatism."
   ]
  },
  {
   "cell_type": "code",
   "execution_count": null,
   "id": "7d8d2284-0ad7-4357-98ed-689e6bfe4572",
   "metadata": {},
   "outputs": [],
   "source": [
    "incident_energy = 80\n",
    "gvxr.setMonoChromatic(incident_energy, \"keV\", 1);"
   ]
  },
  {
   "cell_type": "markdown",
   "id": "d23326bc-8493-4296-85d3-83c16d8c20ca",
   "metadata": {},
   "source": [
    "### 9.2 Use a constant for the linear attenuation coefficient of the sample, e.g. &mu; = 0.1 cm<sup>-1</sup>"
   ]
  },
  {
   "cell_type": "code",
   "execution_count": null,
   "id": "5370b54d-9a7c-4ee3-ad1d-32b9a58e3b12",
   "metadata": {},
   "outputs": [],
   "source": [
    "gvxr.setLinearAttenuationCoefficient(sample_label, 0.1, \"cm-1\")"
   ]
  },
  {
   "cell_type": "markdown",
   "id": "008bd9d6-72ba-48d0-a490-394138c032e8",
   "metadata": {},
   "source": [
    "### 9.3 Perform a CT scan acquisition in the same geometrical conditions"
   ]
  },
  {
   "cell_type": "code",
   "execution_count": null,
   "id": "2bd14f7b-7135-4fc0-85a9-bf18c7349a1d",
   "metadata": {},
   "outputs": [],
   "source": [
    "proj_path = os.path.join(data_path, \"simulated_projections-real_part_model-voxelisation\")\n",
    "\n",
    "if not os.path.exists(proj_path):\n",
    "    \n",
    "    if not os.path.exists(proj_path):\n",
    "        os.mkdir(proj_path);\n",
    "        \n",
    "    total_incident_energy = gvxr.getTotalEnergyWithDetectorResponse()\n",
    "\n",
    "    for i, (source_position, detector_position, detector_direction_x, detector_direction_y) in enumerate(zip(source_position_set, detector_position_set, detector_direction_x_set, detector_direction_y_set)):\n",
    "\n",
    "        gvxr.setSourcePosition(source_position[0], source_position[1], source_position[2], \"mm\");\n",
    "\n",
    "        gvxr.autoAlignDetector(False);\n",
    "        gvxr.setDetectorPosition(detector_position[0], detector_position[1], detector_position[2], \"mm\");\n",
    "        gvxr.setDetectorUpVector(detector_direction_y[0], detector_direction_y[1], detector_direction_y[2]);\n",
    "        gvxr.setDetectorRightVector(detector_direction_x[0], detector_direction_x[1], detector_direction_x[2]);\n",
    "\n",
    "        # Compute an X-ray image\n",
    "        # We convert the array in a Numpy structure and store the data using single-precision floating-point numbers.\n",
    "        xray_image = np.array(gvxr.computeXRayImage(), dtype=np.single) / total_incident_energy\n",
    "        imwrite(os.path.join(proj_path, \"img_\" + str(i).zfill(5) + \".tif\"), xray_image, compression =\"zlib\");"
   ]
  },
  {
   "cell_type": "markdown",
   "id": "44342d31-78a5-4063-ac20-c9ee2005df8e",
   "metadata": {},
   "source": [
    "## 10. Stop the simulation engine"
   ]
  },
  {
   "cell_type": "code",
   "execution_count": null,
   "id": "6c7e2835-dbc7-44be-a3f0-3a6f638a1721",
   "metadata": {},
   "outputs": [],
   "source": [
    "gvxr.terminate()"
   ]
  },
  {
   "cell_type": "markdown",
   "id": "286338a3-6a70-4685-9df0-26e461bb3836",
   "metadata": {},
   "source": [
    "## 11. CT reconstruction with CIL   \n",
    "\n",
    "### 11.1 Load the simulated projections"
   ]
  },
  {
   "cell_type": "code",
   "execution_count": null,
   "id": "88b2c373-079e-4065-aae4-a367ef75c089",
   "metadata": {},
   "outputs": [],
   "source": [
    "# Define the path where TIFF files will be saved\n",
    "output_path = \"recons-real_part_model-voxelisation\";\n",
    "save_base_path = os.getcwd();\n",
    "save_path = os.path.join(data_path, output_path);"
   ]
  },
  {
   "cell_type": "code",
   "execution_count": null,
   "id": "b65d4e1a-54c4-431c-8b0b-53c98140dbc5",
   "metadata": {},
   "outputs": [],
   "source": [
    "if not os.path.exists(save_path):\n",
    "    reader = DTHEDataReader(directory_path=data_path,\n",
    "                            normalise=False,\n",
    "                            tiff_directory_path=os.path.join(data_path, \"simulated_projections-real_part_model-voxelisation\"));\n",
    "\n",
    "    # Read the data\n",
    "    data_original = reader.read();"
   ]
  },
  {
   "cell_type": "markdown",
   "id": "d8d52f4b-4551-435b-b409-7e13b7da683d",
   "metadata": {},
   "source": [
    "### 11.2 Apply the minus log"
   ]
  },
  {
   "cell_type": "code",
   "execution_count": null,
   "id": "b08b5b44-f10a-46bd-b377-544630cdd0af",
   "metadata": {},
   "outputs": [],
   "source": [
    "if not os.path.exists(save_path):\n",
    "    data_absorption = -np.log(data_original)\n",
    "    del data_original;"
   ]
  },
  {
   "cell_type": "markdown",
   "id": "2c1019df-20e1-4ad8-8326-f61c29957109",
   "metadata": {},
   "source": [
    "### 11.3 Define a ROI to save resources\n",
    "### 11.4 Reconstruct the CT volume with CIL"
   ]
  },
  {
   "cell_type": "code",
   "execution_count": null,
   "id": "79e8a57e-8959-4e2f-a987-71d18763b84e",
   "metadata": {},
   "outputs": [],
   "source": [
    "if not os.path.exists(save_path):\n",
    "    \n",
    "    start = time.time();\n",
    "\n",
    "    # Prepare the data for Tigre\n",
    "    data_absorption.reorder(order='astra');\n",
    "\n",
    "    # Reconstruct using FDK\n",
    "    ig = data_absorption.geometry.get_ImageGeometry();\n",
    "\n",
    "    # Change the number of voxels in the reconstructed volume if a ROI is in use\n",
    "    if roi_size is not None:\n",
    "        ig.voxel_num_x = roi_size[0];\n",
    "        ig.voxel_num_y = roi_size[1];\n",
    "        ig.voxel_num_z = roi_size[2];\n",
    "\n",
    "    # Apply a scaling factor if binning is in use\n",
    "    if scaling_factor != 1:\n",
    "        ig.voxel_num_x = round(ig.voxel_num_x // scaling_factor);\n",
    "        ig.voxel_num_y = round(ig.voxel_num_y // scaling_factor);\n",
    "        ig.voxel_num_z = round(ig.voxel_num_z // scaling_factor);\n",
    "\n",
    "        ig.voxel_size_x *= scaling_factor;\n",
    "        ig.voxel_size_y *= scaling_factor;\n",
    "        ig.voxel_size_z *= scaling_factor;\n",
    "\n",
    "        ig.voxel_size_x = np.max([ig.voxel_size_x, ig.voxel_size_y, ig.voxel_size_z]);\n",
    "        ig.voxel_size_y = ig.voxel_size_z = ig.voxel_size_x;\n",
    "\n",
    "    # Show the reconstructed volume voxel size\n",
    "    print(\"Voxel size:\", ig.voxel_size_x, ig.voxel_size_y, ig.voxel_size_z);\n",
    "\n",
    "    # Instantiate the reconstruction algorithm\n",
    "    fdk = FBP(ig, data_absorption.geometry)\n",
    "    fdk.set_input(data_absorption)\n",
    "\n",
    "    # Perform the actual CT reconstruction\n",
    "    recons_FDK_cil = fdk.get_output();\n",
    "\n",
    "    stop = time.time();\n",
    "    runtime, unit = getRuntime(start, stop);\n",
    "    print(\"Execution time:\", \"{0:0.2f}\".format(runtime), unit);"
   ]
  },
  {
   "cell_type": "markdown",
   "id": "eb7a3a89-27f5-473f-8c18-421551221bec",
   "metadata": {},
   "source": [
    "### 11.5 Binarise the valume and save it to disk for example as a stack of TIFFs"
   ]
  },
  {
   "cell_type": "code",
   "execution_count": null,
   "id": "4f720ddc-1d7a-49d5-ab6d-bd4c901d7733",
   "metadata": {},
   "outputs": [],
   "source": [
    "import SimpleITK as sitk"
   ]
  },
  {
   "cell_type": "code",
   "execution_count": null,
   "id": "c09120aa-861c-430c-8d92-b4b4f558302a",
   "metadata": {},
   "outputs": [],
   "source": [
    "if not os.path.exists(save_path):\n",
    "    recons_array = np.round((recons_FDK_cil * 1000).as_array()).astype(np.uint8);\n",
    "\n",
    "    sitk_img = sitk.GetImageFromArray(recons_array)\n",
    "    median_filter = sitk.MedianImageFilter()\n",
    "    median_filter.SetRadius(1)\n",
    "    sitk_img = median_filter.Execute(sitk_img)\n",
    "\n",
    "    recons_array = sitk.GetArrayFromImage(sitk_img)\n",
    "    \n",
    "    recons_array[0,:,:] = 0\n",
    "    recons_array[ig.voxel_num_z - 1,:,:] = 0\n",
    "    recons_array[recons_array>=200] = 0\n",
    "    recons_array[recons_array>=5] = 255\n",
    "\n",
    "    print(\"Print the CT data will be saved in:\", save_path);\n",
    "    \n",
    "    os.mkdir(save_path);\n",
    "    \n",
    "    for i, img in enumerate(recons_array):\n",
    "\n",
    "        imwrite(os.path.join(save_path, \"slice_idx_\" + str(i).zfill(4) + \".tiff\"), img, compression ='zlib')    "
   ]
  }
 ],
 "metadata": {
  "kernelspec": {
   "display_name": "Python 3 (ipykernel)",
   "language": "python",
   "name": "python3"
  },
  "language_info": {
   "codemirror_mode": {
    "name": "ipython",
    "version": 3
   },
   "file_extension": ".py",
   "mimetype": "text/x-python",
   "name": "python",
   "nbconvert_exporter": "python",
   "pygments_lexer": "ipython3",
   "version": "3.10.14"
  }
 },
 "nbformat": 4,
 "nbformat_minor": 5
}
