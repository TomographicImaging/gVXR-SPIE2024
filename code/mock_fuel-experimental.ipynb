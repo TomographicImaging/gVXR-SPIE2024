{
 "cells": [
  {
   "cell_type": "code",
   "execution_count": null,
   "id": "c8763149-102f-4422-817c-f0082b8d8011",
   "metadata": {},
   "outputs": [],
   "source": [
    "#!/usr/bin/env python3\n",
    "# -*- coding: utf-8 -*-\n",
    "#  Copyright 2024 United Kingdom Research and Innovation\n",
    "#\n",
    "#  Licensed under the Apache License, Version 2.0 (the \"License\");\n",
    "#  you may not use this file except in compliance with the License.\n",
    "#  You may obtain a copy of the License at\n",
    "#\n",
    "#      http://www.apache.org/licenses/LICENSE-2.0\n",
    "#\n",
    "#  Unless required by applicable law or agreed to in writing, software\n",
    "#  distributed under the License is distributed on an \"AS IS\" BASIS,\n",
    "#  WITHOUT WARRANTIES OR CONDITIONS OF ANY KIND, either express or implied.\n",
    "#  See the License for the specific language governing permissions and\n",
    "#  limitations under the License.\n",
    "#\n",
    "#   Authored by:    Franck Vidal (UKRI-STFC)"
   ]
  },
  {
   "cell_type": "markdown",
   "id": "f1428eec-d44f-4de4-b2ba-9328558fd9bf",
   "metadata": {},
   "source": [
    "# Synchrotron &mu;-CT reconstruction of mock nuclear fuel with [CIL](https://ccpi.ac.uk/cil/)"
   ]
  },
  {
   "cell_type": "code",
   "execution_count": null,
   "id": "fbd8a4ff-e967-42b3-afef-efae1e9e9519",
   "metadata": {},
   "outputs": [],
   "source": [
    "# Import packages\n",
    "import os, math, glob\n",
    "import numpy as np\n",
    "\n",
    "# Increase the font size in plots\n",
    "import matplotlib\n",
    "font = {'weight' : 'bold',\n",
    "        'size'   : 9}\n",
    "\n",
    "matplotlib.rc('font', **font)\n",
    "\n",
    "import matplotlib.pyplot as plt # Plotting\n",
    "\n",
    "# from gvxrPython3 import gvxr # Simulate X-ray images\n",
    "# from gvxrPython3.utils import loadSpectrumSpekpy, visualise\n",
    "# from gvxrPython3 import gvxr2json # Simulate X-ray images\n",
    "\n",
    "import algotom.prep.removal as rem\n",
    "\n",
    "# CT reconstruction using CIL\n",
    "from cil.io import TIFFStackReader, TIFFWriter\n",
    "from cil.utilities.display import show2D, show_geometry\n",
    "from cil.processors import TransmissionAbsorptionConverter\n",
    "from cil.framework import AcquisitionGeometry, AcquisitionData\n",
    "from cil.recon import FDK\n",
    "from cil.plugins.astra import FBP\n",
    "from cil.optimisation.algorithms import SIRT\n",
    "from cil.optimisation.functions import IndicatorBox\n",
    "from cil.plugins.astra.operators import ProjectionOperator\n",
    "from cil.utilities.jupyter import islicer\n",
    "from cil.processors import CentreOfRotationCorrector, Masker, MaskGenerator, RingRemover"
   ]
  },
  {
   "cell_type": "code",
   "execution_count": null,
   "id": "2e20cc65-d287-45b8-a9de-d2af97485ffd",
   "metadata": {},
   "outputs": [],
   "source": [
    "use_3D = False"
   ]
  },
  {
   "cell_type": "code",
   "execution_count": null,
   "id": "88806669-0fd3-43c2-bc4c-2d59b254c1b5",
   "metadata": {},
   "outputs": [],
   "source": [
    "# DONE\n",
    "scan_number = 112561\n",
    "scan_energy = 70\n",
    "vmin=0.0\n",
    "vmax=6.0\n",
    "\n",
    "# DONE\n",
    "# scan_number = 112555\n",
    "# scan_energy = 90\n",
    "\n",
    "# # DONE\n",
    "scan_number = 112549\n",
    "scan_energy = 110\n",
    "vmin=0.6\n",
    "vmax=3.0\n",
    "\n",
    "# # DONE\n",
    "# # scan_number = 112543\n",
    "# # scan_energy = 130\n",
    "\n",
    "# # DONE\n",
    "scan_number = 112530\n",
    "scan_energy = 150\n",
    "vmin=0.2\n",
    "vmax=1.8\n",
    "\n",
    "projection_path = \"/run/media/fpvidal/DATA/CT/2022/Diamond_Light_Source/MG-29820/reconstruction/\" + str(scan_number) + \"/sinogram\""
   ]
  },
  {
   "cell_type": "code",
   "execution_count": null,
   "id": "d32cc12f-abdc-4bed-b211-8b3e21ab5347",
   "metadata": {},
   "outputs": [],
   "source": [
    "print(projection_path)"
   ]
  },
  {
   "cell_type": "markdown",
   "id": "de34c2d8-8667-4287-ba12-48684deea23f",
   "metadata": {},
   "source": [
    "## Set the simulation parameters"
   ]
  },
  {
   "cell_type": "code",
   "execution_count": null,
   "id": "495b3f0b-006b-4577-b721-c9b2776ce74b",
   "metadata": {
    "tags": []
   },
   "outputs": [],
   "source": [
    "# Create the TIFF reader by passing the directory containing the files\n",
    "fnames = sorted(glob.glob(projection_path + '/slice-*.tif'));\n",
    "\n",
    "# 3D\n",
    "if use_3D:\n",
    "    reader = TIFFStackReader(file_name=fnames, dtype=np.float32)\n",
    "# 2D\n",
    "else:\n",
    "    print(\"Slice name:\", fnames[len(fnames) // 2])\n",
    "    reader = TIFFStackReader(file_name=fnames[len(fnames) // 2], dtype=np.float32)\n",
    "\n",
    "# Read in file, and return a numpy array containing the data\n",
    "data_original = reader.read()"
   ]
  },
  {
   "cell_type": "code",
   "execution_count": null,
   "id": "a8b396e0-e3b3-4cfc-8a09-4e7f272756d6",
   "metadata": {},
   "outputs": [],
   "source": [
    "# Create the CIL geoemtry\n",
    "\n",
    "# 3D\n",
    "if len(data_original.shape) == 3:\n",
    "    # The data is stored as a stack of detector images, we use the CILlabels for the axes\n",
    "    axis_labels = ['vertical','angle','horizontal']\n",
    "    \n",
    "    geometry = AcquisitionGeometry.create_Parallel3D(ray_direction=(0.0, -1.0, 0.0),\n",
    "                                                 detector_position=(0.0, -50.0, 0.0),\n",
    "                                                 detector_direction_x=(1.0, 0.0, 0.0),\n",
    "                                                 detector_direction_y=(0.0, 0.0, -1.0),\n",
    "                                                 rotation_axis_position=(0.0, 0.0, 0.0),\n",
    "                                                 rotation_axis_direction=(0.0, 0.0, -1.0))   \n",
    "        \n",
    "    # Set the angles, remembering to specify the units\n",
    "    geometry.set_angles(-np.linspace(0, 180, data_original.shape[1]), angle_unit='degree')\n",
    "    \n",
    "    # Set the detector shape and size\n",
    "    geometry.set_panel((data_original.shape[2], len(fnames)), (0.000791, 0.000791))\n",
    "\n",
    "# 2D\n",
    "else:\n",
    "    # The data is stored as a stack of detector images, we use the CILlabels for the axes\n",
    "    axis_labels = ['angle','horizontal']\n",
    "    \n",
    "    geometry = AcquisitionGeometry.create_Parallel2D(ray_direction=(0.0, -1.0),\n",
    "                                                 detector_position=(0.0, -50.0),\n",
    "                                                 detector_direction_x=(1.0, 0.0),\n",
    "                                                 rotation_axis_position=(0.0, 0.0))   \n",
    "        \n",
    "    # Set the angles, remembering to specify the units\n",
    "    geometry.set_angles(-np.linspace(0, 180, data_original.shape[0]), angle_unit='degree')\n",
    "    \n",
    "    # Set the detector shape and size\n",
    "    geometry.set_panel((data_original.shape[1]), (0.000791))\n",
    "    \n",
    "# Set the order of the data\n",
    "geometry.set_labels(axis_labels)"
   ]
  },
  {
   "cell_type": "code",
   "execution_count": null,
   "id": "6d22be08-6f4d-47ea-b074-354c79c98cc3",
   "metadata": {},
   "outputs": [],
   "source": [
    "# Prepare the data for the reconstruction\n",
    "acquisition_data = AcquisitionData(data_original, deep_copy=False, geometry=geometry)\n",
    "acquisition_data.reorder(order='astra')"
   ]
  },
  {
   "cell_type": "code",
   "execution_count": null,
   "id": "bbbac251-2b15-428f-bf44-244a1e3ca7de",
   "metadata": {},
   "outputs": [],
   "source": [
    "# Recentre the sinogram\n",
    "data_centred = CentreOfRotationCorrector.xcorrelation()(acquisition_data)"
   ]
  },
  {
   "cell_type": "code",
   "execution_count": null,
   "id": "e413b288-6e59-46b8-9065-bf8d9716cab1",
   "metadata": {},
   "outputs": [],
   "source": [
    "# Test various strategies of ring removals\n",
    "\n",
    "# sigmas = [0.5, 1, 1.5, 2]\n",
    "# decompositions = [2, 4, 6, 8]\n",
    "# wavelet_types = ['db1', 'db10', 'db20', 'db30']\n",
    "\n",
    "# for decomposition in decompositions:\n",
    "#     for wavelet_type in wavelet_types:\n",
    "#         for sigma in sigmas:\n",
    "            \n",
    "#             ring_remover = RingRemover(decNum=decomposition, wname=wavelet_type, sigma=sigma, info=False);\n",
    "#             ring_remover.set_input(data_centred)\n",
    "#             ring_removed = ring_remover.get_output()\n",
    "\n",
    "#             ig = ring_removed.geometry.get_ImageGeometry()\n",
    "            \n",
    "#             ig.voxel_size_x = 0.000791 * 2\n",
    "#             ig.voxel_size_y = 0.000791 * 2\n",
    "            \n",
    "#             ig.voxel_num_x = ig.voxel_num_x // 2\n",
    "#             ig.voxel_num_y = ig.voxel_num_y // 2\n",
    "            \n",
    "#             # 3D\n",
    "#             if len(data_original.shape) == 3:\n",
    "            \n",
    "#                 ig.voxel_size_z = 0.000791 * 2\n",
    "#                 ig.voxel_num_z = ig.voxel_num_z // 2\n",
    "            \n",
    "#             # Perform the FDK reconstruction\n",
    "#             recon = FBP(ig, ring_removed.geometry, device='gpu')(ring_removed)\n",
    "#             recon_as_array = recon.as_array()\n",
    "            \n",
    "#             fig = plt.figure(figsize=(5,5))\n",
    "            \n",
    "#             vmin=2.396-1.5\n",
    "#             vmax=2.7+0.9\n",
    "            \n",
    "#             print(vmax)\n",
    "#             # 3D\n",
    "#             if len(data_original.shape) == 3:\n",
    "#                 plt.imshow(recon_as_array[recon_as_array.shape[0] // 2], cmap=\"gray\", vmin=0.0)\n",
    "#             # 2D\n",
    "#             else:\n",
    "#                 plt.imshow(recon_as_array, cmap=\"gray\", vmin=vmin, vmax=vmax)\n",
    "\n",
    "#             plt.title('$\\sigma = ' + str(sigma) + ', wavelet type =' + wavelet_type + ', $L = $' + str(decomposition))\n",
    "#             plt.colorbar()\n",
    "#             plt.axis('off');\n"
   ]
  },
  {
   "cell_type": "code",
   "execution_count": null,
   "id": "d27a3aff-6514-4be0-a953-101cf80df158",
   "metadata": {},
   "outputs": [],
   "source": [
    "# Remove ring artefacts\n",
    "if use_3D:\n",
    "    ring_remover = RingRemover(decNum=4, wname=\"db20\", sigma=1.5, info=True);\n",
    "    ring_remover.set_input(data_centred)\n",
    "    ring_removed = ring_remover.get_output()\n",
    "else:\n",
    "    temp = rem.remove_all_stripe(data_centred.as_array())\n",
    "    ring_removed = AcquisitionData(temp, geometry=data_centred.geometry)"
   ]
  },
  {
   "cell_type": "code",
   "execution_count": null,
   "id": "f26b5473-5588-487d-a6bf-3fa82fec5fa9",
   "metadata": {},
   "outputs": [],
   "source": [
    "# Reduce the size of the reconstructed volume\n",
    "ig = ring_removed.geometry.get_ImageGeometry()\n",
    "\n",
    "ig.voxel_size_x = 0.000791 * 2\n",
    "ig.voxel_size_y = 0.000791 * 2\n",
    "\n",
    "ig.voxel_num_x = ig.voxel_num_x // 2\n",
    "ig.voxel_num_y = ig.voxel_num_y // 2\n",
    "\n",
    "# 3D\n",
    "if len(data_original.shape) == 3:\n",
    "\n",
    "    ig.voxel_size_z = 0.000791 * 2\n",
    "    ig.voxel_num_z = ig.voxel_num_z // 2\n"
   ]
  },
  {
   "cell_type": "code",
   "execution_count": null,
   "id": "cf74ce04-30e0-458a-83d2-bae05f0c9a29",
   "metadata": {},
   "outputs": [],
   "source": [
    "# Perform the FDK reconstruction\n",
    "recon = FBP(ig, ring_removed.geometry, device='gpu')(ring_removed)\n",
    "# recon = FBP(ig, data_centred.geometry, device='gpu')(data_centred)"
   ]
  },
  {
   "cell_type": "code",
   "execution_count": null,
   "id": "e6521a45-b236-4d7a-89ea-1b26beadf556",
   "metadata": {},
   "outputs": [],
   "source": [
    "recon_as_array = recon.as_array()"
   ]
  },
  {
   "cell_type": "code",
   "execution_count": null,
   "id": "76b7c8af-530c-4796-b019-d457b8c1e5ed",
   "metadata": {},
   "outputs": [],
   "source": [
    "# Plot the centre slice\n",
    "fig = plt.figure(figsize=(4.6, 3.6))\n",
    "\n",
    "# 3D\n",
    "if len(data_original.shape) == 3:\n",
    "    print(np.max(recon_as_array[recon_as_array.shape[0] // 2]))\n",
    "    plt.imshow(recon_as_array[recon_as_array.shape[0] // 2], cmap=\"gray\", vmin=0.0, vmax=1.5)\n",
    "# 2D\n",
    "else:\n",
    "    print(np.max(recon_as_array))\n",
    "    plt.imshow(recon_as_array, cmap=\"gray\", vmin=vmin, vmax=vmax,\n",
    "               extent=[0,(recon_as_array.shape[1]-1)*ig.voxel_size_x,0,(recon_as_array.shape[0]-1)*ig.voxel_size_y])   \n",
    "\n",
    "plt.xlabel(\"Pixel position (in mm)\")\n",
    "plt.ylabel(\"Pixel position (in mm)\")\n",
    "\n",
    "plt.title(str(scan_energy) + \" keV\")\n",
    "plt.colorbar()\n",
    "# plt.axis('off');\n",
    "# plt.title(str(scan_energy) + \" keV\")\n",
    "plt.savefig(projection_path + \"/../FBP-CIL-\" + str(scan_number) + \"-\" + str(scan_energy) + \"keV.png\")\n",
    "plt.savefig(projection_path + \"/../FBP-CIL-\" + str(scan_number) + \"-\" + str(scan_energy) + \"keV.pdf\")"
   ]
  },
  {
   "cell_type": "code",
   "execution_count": null,
   "id": "65bb5e93-e3d4-47c6-a539-09ef57f78396",
   "metadata": {},
   "outputs": [],
   "source": [
    "# Save the CT volume as a TIFF stack\n",
    "output_path = os.path.join(projection_path + \"/../FBP-CIL-\" + str(scan_number) + \"-\" + str(scan_energy) + \"keV\")\n",
    "TIFFWriter(data=recon, file_name=os.path.join(output_path, \"out\")).write()\n",
    "print(\"output_path:\", output_path)"
   ]
  },
  {
   "cell_type": "code",
   "execution_count": null,
   "id": "043cf375-109d-4f66-803f-1f37a967fa9d",
   "metadata": {},
   "outputs": [],
   "source": []
  }
 ],
 "metadata": {
  "kernelspec": {
   "display_name": "Python 3 (ipykernel)",
   "language": "python",
   "name": "python3"
  },
  "language_info": {
   "codemirror_mode": {
    "name": "ipython",
    "version": 3
   },
   "file_extension": ".py",
   "mimetype": "text/x-python",
   "name": "python",
   "nbconvert_exporter": "python",
   "pygments_lexer": "ipython3",
   "version": "3.10.14"
  }
 },
 "nbformat": 4,
 "nbformat_minor": 5
}
